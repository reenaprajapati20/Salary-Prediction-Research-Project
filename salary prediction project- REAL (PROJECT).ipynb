{
 "cells": [
  {
   "cell_type": "markdown",
   "id": "93d4fad8",
   "metadata": {},
   "source": [
    "# Import Libraries\n"
   ]
  },
  {
   "cell_type": "code",
   "execution_count": 1,
   "id": "95a5eba7",
   "metadata": {},
   "outputs": [],
   "source": [
    "import numpy as np\n",
    "import seaborn as sns\n",
    "import matplotlib.pyplot as plt\n",
    "import pandas as pd\n"
   ]
  },
  {
   "cell_type": "markdown",
   "id": "6efb8ce2",
   "metadata": {},
   "source": [
    "# Read Data File/ Csv File:"
   ]
  },
  {
   "cell_type": "code",
   "execution_count": 2,
   "id": "1b753f11",
   "metadata": {},
   "outputs": [],
   "source": [
    "df=pd.read_csv(r'C:\\Users\\reena\\Downloads\\reena salary prediction dataset.csv')"
   ]
  },
  {
   "cell_type": "code",
   "execution_count": 3,
   "id": "211a63ee",
   "metadata": {},
   "outputs": [
    {
     "data": {
      "text/html": [
       "<div>\n",
       "<style scoped>\n",
       "    .dataframe tbody tr th:only-of-type {\n",
       "        vertical-align: middle;\n",
       "    }\n",
       "\n",
       "    .dataframe tbody tr th {\n",
       "        vertical-align: top;\n",
       "    }\n",
       "\n",
       "    .dataframe thead th {\n",
       "        text-align: right;\n",
       "    }\n",
       "</style>\n",
       "<table border=\"1\" class=\"dataframe\">\n",
       "  <thead>\n",
       "    <tr style=\"text-align: right;\">\n",
       "      <th></th>\n",
       "      <th>Age</th>\n",
       "      <th>Gender</th>\n",
       "      <th>Education Level</th>\n",
       "      <th>Job Title</th>\n",
       "      <th>Years of Experience</th>\n",
       "      <th>Salary</th>\n",
       "      <th>Location</th>\n",
       "    </tr>\n",
       "  </thead>\n",
       "  <tbody>\n",
       "    <tr>\n",
       "      <th>0</th>\n",
       "      <td>32.0</td>\n",
       "      <td>Male</td>\n",
       "      <td>Bachelor's</td>\n",
       "      <td>Software Engineer</td>\n",
       "      <td>5.0</td>\n",
       "      <td>90000.0</td>\n",
       "      <td>jaipur</td>\n",
       "    </tr>\n",
       "    <tr>\n",
       "      <th>1</th>\n",
       "      <td>28.0</td>\n",
       "      <td>Female</td>\n",
       "      <td>Master's</td>\n",
       "      <td>Data Analyst</td>\n",
       "      <td>3.0</td>\n",
       "      <td>65000.0</td>\n",
       "      <td>jaipur</td>\n",
       "    </tr>\n",
       "    <tr>\n",
       "      <th>2</th>\n",
       "      <td>45.0</td>\n",
       "      <td>Male</td>\n",
       "      <td>PhD</td>\n",
       "      <td>Senior Manager</td>\n",
       "      <td>15.0</td>\n",
       "      <td>150000.0</td>\n",
       "      <td>jaipur</td>\n",
       "    </tr>\n",
       "    <tr>\n",
       "      <th>3</th>\n",
       "      <td>36.0</td>\n",
       "      <td>Female</td>\n",
       "      <td>Bachelor's</td>\n",
       "      <td>Sales Associate</td>\n",
       "      <td>7.0</td>\n",
       "      <td>60000.0</td>\n",
       "      <td>jaipur</td>\n",
       "    </tr>\n",
       "    <tr>\n",
       "      <th>4</th>\n",
       "      <td>52.0</td>\n",
       "      <td>Male</td>\n",
       "      <td>Master's</td>\n",
       "      <td>Director</td>\n",
       "      <td>20.0</td>\n",
       "      <td>200000.0</td>\n",
       "      <td>jaipur</td>\n",
       "    </tr>\n",
       "  </tbody>\n",
       "</table>\n",
       "</div>"
      ],
      "text/plain": [
       "    Age  Gender Education Level          Job Title  Years of Experience  \\\n",
       "0  32.0    Male      Bachelor's  Software Engineer                  5.0   \n",
       "1  28.0  Female        Master's       Data Analyst                  3.0   \n",
       "2  45.0    Male             PhD     Senior Manager                 15.0   \n",
       "3  36.0  Female      Bachelor's    Sales Associate                  7.0   \n",
       "4  52.0    Male        Master's           Director                 20.0   \n",
       "\n",
       "     Salary Location  \n",
       "0   90000.0   jaipur  \n",
       "1   65000.0   jaipur  \n",
       "2  150000.0   jaipur  \n",
       "3   60000.0   jaipur  \n",
       "4  200000.0   jaipur  "
      ]
     },
     "execution_count": 3,
     "metadata": {},
     "output_type": "execute_result"
    }
   ],
   "source": [
    "df.head()"
   ]
  },
  {
   "cell_type": "markdown",
   "id": "e8d40b27",
   "metadata": {},
   "source": [
    "# Number of Rows and Columns:"
   ]
  },
  {
   "cell_type": "code",
   "execution_count": 4,
   "id": "becbade1",
   "metadata": {},
   "outputs": [
    {
     "data": {
      "text/plain": [
       "(375, 7)"
      ]
     },
     "execution_count": 4,
     "metadata": {},
     "output_type": "execute_result"
    }
   ],
   "source": [
    "df.shape"
   ]
  },
  {
   "cell_type": "markdown",
   "id": "c214d9b8",
   "metadata": {},
   "source": [
    "# List of columns:"
   ]
  },
  {
   "cell_type": "code",
   "execution_count": 5,
   "id": "71202a0d",
   "metadata": {},
   "outputs": [
    {
     "data": {
      "text/plain": [
       "Index(['Age', 'Gender', 'Education Level', 'Job Title', 'Years of Experience',\n",
       "       'Salary', 'Location'],\n",
       "      dtype='object')"
      ]
     },
     "execution_count": 5,
     "metadata": {},
     "output_type": "execute_result"
    }
   ],
   "source": [
    "df.columns"
   ]
  },
  {
   "cell_type": "markdown",
   "id": "13383cb0",
   "metadata": {},
   "source": [
    "# Rename Columns:"
   ]
  },
  {
   "cell_type": "code",
   "execution_count": 6,
   "id": "7fc1c541",
   "metadata": {},
   "outputs": [],
   "source": [
    "df.columns=['Age','Gender','Education_Level','Job_Title','Experience_years','Salary','Location']"
   ]
  },
  {
   "cell_type": "code",
   "execution_count": 7,
   "id": "c9ade95a",
   "metadata": {},
   "outputs": [
    {
     "data": {
      "text/plain": [
       "Index(['Age', 'Gender', 'Education_Level', 'Job_Title', 'Experience_years',\n",
       "       'Salary', 'Location'],\n",
       "      dtype='object')"
      ]
     },
     "execution_count": 7,
     "metadata": {},
     "output_type": "execute_result"
    }
   ],
   "source": [
    "df.columns"
   ]
  },
  {
   "cell_type": "markdown",
   "id": "0056a87f",
   "metadata": {},
   "source": [
    "# Column Datatypes:"
   ]
  },
  {
   "cell_type": "code",
   "execution_count": 8,
   "id": "834362d5",
   "metadata": {},
   "outputs": [
    {
     "data": {
      "text/plain": [
       "Age                 float64\n",
       "Gender               object\n",
       "Education_Level      object\n",
       "Job_Title            object\n",
       "Experience_years    float64\n",
       "Salary              float64\n",
       "Location             object\n",
       "dtype: object"
      ]
     },
     "execution_count": 8,
     "metadata": {},
     "output_type": "execute_result"
    }
   ],
   "source": [
    "df.dtypes"
   ]
  },
  {
   "cell_type": "markdown",
   "id": "03980555",
   "metadata": {},
   "source": [
    "# Information of Dataset:"
   ]
  },
  {
   "cell_type": "code",
   "execution_count": 9,
   "id": "6faa8338",
   "metadata": {},
   "outputs": [
    {
     "name": "stdout",
     "output_type": "stream",
     "text": [
      "<class 'pandas.core.frame.DataFrame'>\n",
      "RangeIndex: 375 entries, 0 to 374\n",
      "Data columns (total 7 columns):\n",
      " #   Column            Non-Null Count  Dtype  \n",
      "---  ------            --------------  -----  \n",
      " 0   Age               373 non-null    float64\n",
      " 1   Gender            373 non-null    object \n",
      " 2   Education_Level   373 non-null    object \n",
      " 3   Job_Title         373 non-null    object \n",
      " 4   Experience_years  373 non-null    float64\n",
      " 5   Salary            373 non-null    float64\n",
      " 6   Location          375 non-null    object \n",
      "dtypes: float64(3), object(4)\n",
      "memory usage: 20.6+ KB\n"
     ]
    }
   ],
   "source": [
    "df.info()"
   ]
  },
  {
   "cell_type": "markdown",
   "id": "b310ba91",
   "metadata": {},
   "source": [
    "# Duplicates Records in Data:"
   ]
  },
  {
   "cell_type": "code",
   "execution_count": 10,
   "id": "ad789e3a",
   "metadata": {},
   "outputs": [
    {
     "data": {
      "text/html": [
       "<div>\n",
       "<style scoped>\n",
       "    .dataframe tbody tr th:only-of-type {\n",
       "        vertical-align: middle;\n",
       "    }\n",
       "\n",
       "    .dataframe tbody tr th {\n",
       "        vertical-align: top;\n",
       "    }\n",
       "\n",
       "    .dataframe thead th {\n",
       "        text-align: right;\n",
       "    }\n",
       "</style>\n",
       "<table border=\"1\" class=\"dataframe\">\n",
       "  <thead>\n",
       "    <tr style=\"text-align: right;\">\n",
       "      <th></th>\n",
       "      <th>Age</th>\n",
       "      <th>Gender</th>\n",
       "      <th>Education_Level</th>\n",
       "      <th>Job_Title</th>\n",
       "      <th>Experience_years</th>\n",
       "      <th>Salary</th>\n",
       "      <th>Location</th>\n",
       "    </tr>\n",
       "  </thead>\n",
       "  <tbody>\n",
       "    <tr>\n",
       "      <th>195</th>\n",
       "      <td>28.0</td>\n",
       "      <td>Male</td>\n",
       "      <td>Bachelor's</td>\n",
       "      <td>Junior Business Analyst</td>\n",
       "      <td>2.0</td>\n",
       "      <td>40000.0</td>\n",
       "      <td>jaipur</td>\n",
       "    </tr>\n",
       "    <tr>\n",
       "      <th>250</th>\n",
       "      <td>30.0</td>\n",
       "      <td>Female</td>\n",
       "      <td>Bachelor's</td>\n",
       "      <td>Junior Marketing Coordinator</td>\n",
       "      <td>2.0</td>\n",
       "      <td>40000.0</td>\n",
       "      <td>jaipur</td>\n",
       "    </tr>\n",
       "    <tr>\n",
       "      <th>251</th>\n",
       "      <td>38.0</td>\n",
       "      <td>Male</td>\n",
       "      <td>Master's</td>\n",
       "      <td>Senior IT Consultant</td>\n",
       "      <td>9.0</td>\n",
       "      <td>110000.0</td>\n",
       "      <td>jaipur</td>\n",
       "    </tr>\n",
       "    <tr>\n",
       "      <th>252</th>\n",
       "      <td>45.0</td>\n",
       "      <td>Female</td>\n",
       "      <td>PhD</td>\n",
       "      <td>Senior Product Designer</td>\n",
       "      <td>15.0</td>\n",
       "      <td>150000.0</td>\n",
       "      <td>jaipur</td>\n",
       "    </tr>\n",
       "    <tr>\n",
       "      <th>253</th>\n",
       "      <td>28.0</td>\n",
       "      <td>Male</td>\n",
       "      <td>Bachelor's</td>\n",
       "      <td>Junior Business Development Associate</td>\n",
       "      <td>2.0</td>\n",
       "      <td>40000.0</td>\n",
       "      <td>jaipur</td>\n",
       "    </tr>\n",
       "    <tr>\n",
       "      <th>254</th>\n",
       "      <td>35.0</td>\n",
       "      <td>Female</td>\n",
       "      <td>Bachelor's</td>\n",
       "      <td>Senior Marketing Analyst</td>\n",
       "      <td>8.0</td>\n",
       "      <td>85000.0</td>\n",
       "      <td>jaipur</td>\n",
       "    </tr>\n",
       "    <tr>\n",
       "      <th>255</th>\n",
       "      <td>44.0</td>\n",
       "      <td>Male</td>\n",
       "      <td>Bachelor's</td>\n",
       "      <td>Senior Software Engineer</td>\n",
       "      <td>14.0</td>\n",
       "      <td>130000.0</td>\n",
       "      <td>jaipur</td>\n",
       "    </tr>\n",
       "    <tr>\n",
       "      <th>256</th>\n",
       "      <td>34.0</td>\n",
       "      <td>Female</td>\n",
       "      <td>Master's</td>\n",
       "      <td>Senior Financial Advisor</td>\n",
       "      <td>6.0</td>\n",
       "      <td>100000.0</td>\n",
       "      <td>jaipur</td>\n",
       "    </tr>\n",
       "    <tr>\n",
       "      <th>257</th>\n",
       "      <td>35.0</td>\n",
       "      <td>Male</td>\n",
       "      <td>Bachelor's</td>\n",
       "      <td>Senior Project Coordinator</td>\n",
       "      <td>9.0</td>\n",
       "      <td>95000.0</td>\n",
       "      <td>jaipur</td>\n",
       "    </tr>\n",
       "    <tr>\n",
       "      <th>258</th>\n",
       "      <td>50.0</td>\n",
       "      <td>Female</td>\n",
       "      <td>PhD</td>\n",
       "      <td>Director of Operations</td>\n",
       "      <td>22.0</td>\n",
       "      <td>180000.0</td>\n",
       "      <td>jaipur</td>\n",
       "    </tr>\n",
       "    <tr>\n",
       "      <th>260</th>\n",
       "      <td>NaN</td>\n",
       "      <td>NaN</td>\n",
       "      <td>NaN</td>\n",
       "      <td>NaN</td>\n",
       "      <td>NaN</td>\n",
       "      <td>NaN</td>\n",
       "      <td>jaipur</td>\n",
       "    </tr>\n",
       "    <tr>\n",
       "      <th>262</th>\n",
       "      <td>46.0</td>\n",
       "      <td>Male</td>\n",
       "      <td>PhD</td>\n",
       "      <td>Senior Data Scientist</td>\n",
       "      <td>18.0</td>\n",
       "      <td>160000.0</td>\n",
       "      <td>jaipur</td>\n",
       "    </tr>\n",
       "    <tr>\n",
       "      <th>281</th>\n",
       "      <td>41.0</td>\n",
       "      <td>Female</td>\n",
       "      <td>Bachelor's</td>\n",
       "      <td>Senior Project Coordinator</td>\n",
       "      <td>11.0</td>\n",
       "      <td>95000.0</td>\n",
       "      <td>jaipur</td>\n",
       "    </tr>\n",
       "    <tr>\n",
       "      <th>287</th>\n",
       "      <td>35.0</td>\n",
       "      <td>Female</td>\n",
       "      <td>Bachelor's</td>\n",
       "      <td>Senior Marketing Analyst</td>\n",
       "      <td>8.0</td>\n",
       "      <td>85000.0</td>\n",
       "      <td>jaipur</td>\n",
       "    </tr>\n",
       "    <tr>\n",
       "      <th>303</th>\n",
       "      <td>45.0</td>\n",
       "      <td>Male</td>\n",
       "      <td>PhD</td>\n",
       "      <td>Senior Data Engineer</td>\n",
       "      <td>16.0</td>\n",
       "      <td>150000.0</td>\n",
       "      <td>jaipur</td>\n",
       "    </tr>\n",
       "    <tr>\n",
       "      <th>306</th>\n",
       "      <td>49.0</td>\n",
       "      <td>Female</td>\n",
       "      <td>Master's</td>\n",
       "      <td>Director of Marketing</td>\n",
       "      <td>21.0</td>\n",
       "      <td>180000.0</td>\n",
       "      <td>jaipur</td>\n",
       "    </tr>\n",
       "    <tr>\n",
       "      <th>307</th>\n",
       "      <td>31.0</td>\n",
       "      <td>Male</td>\n",
       "      <td>Bachelor's</td>\n",
       "      <td>Junior Operations Analyst</td>\n",
       "      <td>3.0</td>\n",
       "      <td>50000.0</td>\n",
       "      <td>jaipur</td>\n",
       "    </tr>\n",
       "    <tr>\n",
       "      <th>309</th>\n",
       "      <td>47.0</td>\n",
       "      <td>Male</td>\n",
       "      <td>Master's</td>\n",
       "      <td>Director of Marketing</td>\n",
       "      <td>19.0</td>\n",
       "      <td>170000.0</td>\n",
       "      <td>jaipur</td>\n",
       "    </tr>\n",
       "    <tr>\n",
       "      <th>310</th>\n",
       "      <td>29.0</td>\n",
       "      <td>Female</td>\n",
       "      <td>Bachelor's</td>\n",
       "      <td>Junior Business Development Associate</td>\n",
       "      <td>1.5</td>\n",
       "      <td>35000.0</td>\n",
       "      <td>jaipur</td>\n",
       "    </tr>\n",
       "    <tr>\n",
       "      <th>311</th>\n",
       "      <td>35.0</td>\n",
       "      <td>Male</td>\n",
       "      <td>Bachelor's</td>\n",
       "      <td>Senior Financial Manager</td>\n",
       "      <td>9.0</td>\n",
       "      <td>100000.0</td>\n",
       "      <td>jaipur</td>\n",
       "    </tr>\n",
       "    <tr>\n",
       "      <th>312</th>\n",
       "      <td>44.0</td>\n",
       "      <td>Female</td>\n",
       "      <td>PhD</td>\n",
       "      <td>Senior Product Designer</td>\n",
       "      <td>15.0</td>\n",
       "      <td>150000.0</td>\n",
       "      <td>jaipur</td>\n",
       "    </tr>\n",
       "    <tr>\n",
       "      <th>313</th>\n",
       "      <td>33.0</td>\n",
       "      <td>Male</td>\n",
       "      <td>Bachelor's</td>\n",
       "      <td>Junior Business Analyst</td>\n",
       "      <td>4.0</td>\n",
       "      <td>60000.0</td>\n",
       "      <td>jaipur</td>\n",
       "    </tr>\n",
       "    <tr>\n",
       "      <th>314</th>\n",
       "      <td>35.0</td>\n",
       "      <td>Female</td>\n",
       "      <td>Bachelor's</td>\n",
       "      <td>Senior Marketing Analyst</td>\n",
       "      <td>8.0</td>\n",
       "      <td>85000.0</td>\n",
       "      <td>jaipur</td>\n",
       "    </tr>\n",
       "    <tr>\n",
       "      <th>315</th>\n",
       "      <td>44.0</td>\n",
       "      <td>Male</td>\n",
       "      <td>Bachelor's</td>\n",
       "      <td>Senior Software Engineer</td>\n",
       "      <td>13.0</td>\n",
       "      <td>130000.0</td>\n",
       "      <td>jaipur</td>\n",
       "    </tr>\n",
       "    <tr>\n",
       "      <th>317</th>\n",
       "      <td>36.0</td>\n",
       "      <td>Male</td>\n",
       "      <td>Bachelor's</td>\n",
       "      <td>Senior Marketing Specialist</td>\n",
       "      <td>8.0</td>\n",
       "      <td>95000.0</td>\n",
       "      <td>jaipur</td>\n",
       "    </tr>\n",
       "    <tr>\n",
       "      <th>328</th>\n",
       "      <td>38.0</td>\n",
       "      <td>Female</td>\n",
       "      <td>Bachelor's</td>\n",
       "      <td>Senior Business Analyst</td>\n",
       "      <td>10.0</td>\n",
       "      <td>110000.0</td>\n",
       "      <td>jaipur</td>\n",
       "    </tr>\n",
       "    <tr>\n",
       "      <th>345</th>\n",
       "      <td>33.0</td>\n",
       "      <td>Male</td>\n",
       "      <td>Bachelor's</td>\n",
       "      <td>Junior Business Analyst</td>\n",
       "      <td>4.0</td>\n",
       "      <td>60000.0</td>\n",
       "      <td>jaipur</td>\n",
       "    </tr>\n",
       "    <tr>\n",
       "      <th>346</th>\n",
       "      <td>35.0</td>\n",
       "      <td>Female</td>\n",
       "      <td>Bachelor's</td>\n",
       "      <td>Senior Marketing Analyst</td>\n",
       "      <td>8.0</td>\n",
       "      <td>85000.0</td>\n",
       "      <td>jaipur</td>\n",
       "    </tr>\n",
       "    <tr>\n",
       "      <th>352</th>\n",
       "      <td>38.0</td>\n",
       "      <td>Female</td>\n",
       "      <td>Bachelor's</td>\n",
       "      <td>Senior Business Analyst</td>\n",
       "      <td>10.0</td>\n",
       "      <td>110000.0</td>\n",
       "      <td>jaipur</td>\n",
       "    </tr>\n",
       "    <tr>\n",
       "      <th>353</th>\n",
       "      <td>48.0</td>\n",
       "      <td>Male</td>\n",
       "      <td>Master's</td>\n",
       "      <td>Director of Marketing</td>\n",
       "      <td>21.0</td>\n",
       "      <td>180000.0</td>\n",
       "      <td>jaipur</td>\n",
       "    </tr>\n",
       "    <tr>\n",
       "      <th>354</th>\n",
       "      <td>31.0</td>\n",
       "      <td>Female</td>\n",
       "      <td>Bachelor's</td>\n",
       "      <td>Junior Business Development Associate</td>\n",
       "      <td>3.0</td>\n",
       "      <td>50000.0</td>\n",
       "      <td>jaipur</td>\n",
       "    </tr>\n",
       "    <tr>\n",
       "      <th>355</th>\n",
       "      <td>40.0</td>\n",
       "      <td>Male</td>\n",
       "      <td>Bachelor's</td>\n",
       "      <td>Senior Financial Analyst</td>\n",
       "      <td>12.0</td>\n",
       "      <td>130000.0</td>\n",
       "      <td>jaipur</td>\n",
       "    </tr>\n",
       "    <tr>\n",
       "      <th>356</th>\n",
       "      <td>45.0</td>\n",
       "      <td>Female</td>\n",
       "      <td>PhD</td>\n",
       "      <td>Senior UX Designer</td>\n",
       "      <td>16.0</td>\n",
       "      <td>160000.0</td>\n",
       "      <td>jaipur</td>\n",
       "    </tr>\n",
       "    <tr>\n",
       "      <th>357</th>\n",
       "      <td>33.0</td>\n",
       "      <td>Male</td>\n",
       "      <td>Bachelor's</td>\n",
       "      <td>Junior Product Manager</td>\n",
       "      <td>4.0</td>\n",
       "      <td>60000.0</td>\n",
       "      <td>jaipur</td>\n",
       "    </tr>\n",
       "    <tr>\n",
       "      <th>358</th>\n",
       "      <td>36.0</td>\n",
       "      <td>Female</td>\n",
       "      <td>Bachelor's</td>\n",
       "      <td>Senior Marketing Manager</td>\n",
       "      <td>8.0</td>\n",
       "      <td>95000.0</td>\n",
       "      <td>jaipur</td>\n",
       "    </tr>\n",
       "    <tr>\n",
       "      <th>359</th>\n",
       "      <td>47.0</td>\n",
       "      <td>Male</td>\n",
       "      <td>Master's</td>\n",
       "      <td>Director of Operations</td>\n",
       "      <td>19.0</td>\n",
       "      <td>170000.0</td>\n",
       "      <td>jaipur</td>\n",
       "    </tr>\n",
       "    <tr>\n",
       "      <th>360</th>\n",
       "      <td>29.0</td>\n",
       "      <td>Female</td>\n",
       "      <td>Bachelor's</td>\n",
       "      <td>Junior Project Manager</td>\n",
       "      <td>2.0</td>\n",
       "      <td>40000.0</td>\n",
       "      <td>jaipur</td>\n",
       "    </tr>\n",
       "    <tr>\n",
       "      <th>361</th>\n",
       "      <td>34.0</td>\n",
       "      <td>Male</td>\n",
       "      <td>Bachelor's</td>\n",
       "      <td>Senior Operations Coordinator</td>\n",
       "      <td>7.0</td>\n",
       "      <td>90000.0</td>\n",
       "      <td>jaipur</td>\n",
       "    </tr>\n",
       "    <tr>\n",
       "      <th>362</th>\n",
       "      <td>44.0</td>\n",
       "      <td>Female</td>\n",
       "      <td>PhD</td>\n",
       "      <td>Senior Business Analyst</td>\n",
       "      <td>15.0</td>\n",
       "      <td>150000.0</td>\n",
       "      <td>jaipur</td>\n",
       "    </tr>\n",
       "    <tr>\n",
       "      <th>363</th>\n",
       "      <td>33.0</td>\n",
       "      <td>Male</td>\n",
       "      <td>Bachelor's</td>\n",
       "      <td>Junior Marketing Specialist</td>\n",
       "      <td>5.0</td>\n",
       "      <td>70000.0</td>\n",
       "      <td>jaipur</td>\n",
       "    </tr>\n",
       "    <tr>\n",
       "      <th>364</th>\n",
       "      <td>35.0</td>\n",
       "      <td>Female</td>\n",
       "      <td>Bachelor's</td>\n",
       "      <td>Senior Financial Manager</td>\n",
       "      <td>8.0</td>\n",
       "      <td>90000.0</td>\n",
       "      <td>jaipur</td>\n",
       "    </tr>\n",
       "    <tr>\n",
       "      <th>365</th>\n",
       "      <td>43.0</td>\n",
       "      <td>Male</td>\n",
       "      <td>Master's</td>\n",
       "      <td>Director of Marketing</td>\n",
       "      <td>18.0</td>\n",
       "      <td>170000.0</td>\n",
       "      <td>jaipur</td>\n",
       "    </tr>\n",
       "    <tr>\n",
       "      <th>366</th>\n",
       "      <td>31.0</td>\n",
       "      <td>Female</td>\n",
       "      <td>Bachelor's</td>\n",
       "      <td>Junior Financial Analyst</td>\n",
       "      <td>3.0</td>\n",
       "      <td>50000.0</td>\n",
       "      <td>jaipur</td>\n",
       "    </tr>\n",
       "    <tr>\n",
       "      <th>367</th>\n",
       "      <td>41.0</td>\n",
       "      <td>Male</td>\n",
       "      <td>Bachelor's</td>\n",
       "      <td>Senior Product Manager</td>\n",
       "      <td>14.0</td>\n",
       "      <td>150000.0</td>\n",
       "      <td>jaipur</td>\n",
       "    </tr>\n",
       "    <tr>\n",
       "      <th>368</th>\n",
       "      <td>44.0</td>\n",
       "      <td>Female</td>\n",
       "      <td>PhD</td>\n",
       "      <td>Senior Data Engineer</td>\n",
       "      <td>16.0</td>\n",
       "      <td>160000.0</td>\n",
       "      <td>jaipur</td>\n",
       "    </tr>\n",
       "    <tr>\n",
       "      <th>369</th>\n",
       "      <td>33.0</td>\n",
       "      <td>Male</td>\n",
       "      <td>Bachelor's</td>\n",
       "      <td>Junior Business Analyst</td>\n",
       "      <td>4.0</td>\n",
       "      <td>60000.0</td>\n",
       "      <td>jaipur</td>\n",
       "    </tr>\n",
       "    <tr>\n",
       "      <th>370</th>\n",
       "      <td>35.0</td>\n",
       "      <td>Female</td>\n",
       "      <td>Bachelor's</td>\n",
       "      <td>Senior Marketing Analyst</td>\n",
       "      <td>8.0</td>\n",
       "      <td>85000.0</td>\n",
       "      <td>jaipur</td>\n",
       "    </tr>\n",
       "    <tr>\n",
       "      <th>372</th>\n",
       "      <td>29.0</td>\n",
       "      <td>Female</td>\n",
       "      <td>Bachelor's</td>\n",
       "      <td>Junior Project Manager</td>\n",
       "      <td>2.0</td>\n",
       "      <td>40000.0</td>\n",
       "      <td>jaipur</td>\n",
       "    </tr>\n",
       "    <tr>\n",
       "      <th>373</th>\n",
       "      <td>34.0</td>\n",
       "      <td>Male</td>\n",
       "      <td>Bachelor's</td>\n",
       "      <td>Senior Operations Coordinator</td>\n",
       "      <td>7.0</td>\n",
       "      <td>90000.0</td>\n",
       "      <td>jaipur</td>\n",
       "    </tr>\n",
       "    <tr>\n",
       "      <th>374</th>\n",
       "      <td>44.0</td>\n",
       "      <td>Female</td>\n",
       "      <td>PhD</td>\n",
       "      <td>Senior Business Analyst</td>\n",
       "      <td>15.0</td>\n",
       "      <td>150000.0</td>\n",
       "      <td>jaipur</td>\n",
       "    </tr>\n",
       "  </tbody>\n",
       "</table>\n",
       "</div>"
      ],
      "text/plain": [
       "      Age  Gender Education_Level                              Job_Title  \\\n",
       "195  28.0    Male      Bachelor's                Junior Business Analyst   \n",
       "250  30.0  Female      Bachelor's           Junior Marketing Coordinator   \n",
       "251  38.0    Male        Master's                   Senior IT Consultant   \n",
       "252  45.0  Female             PhD                Senior Product Designer   \n",
       "253  28.0    Male      Bachelor's  Junior Business Development Associate   \n",
       "254  35.0  Female      Bachelor's               Senior Marketing Analyst   \n",
       "255  44.0    Male      Bachelor's               Senior Software Engineer   \n",
       "256  34.0  Female        Master's               Senior Financial Advisor   \n",
       "257  35.0    Male      Bachelor's             Senior Project Coordinator   \n",
       "258  50.0  Female             PhD                 Director of Operations   \n",
       "260   NaN     NaN             NaN                                    NaN   \n",
       "262  46.0    Male             PhD                  Senior Data Scientist   \n",
       "281  41.0  Female      Bachelor's             Senior Project Coordinator   \n",
       "287  35.0  Female      Bachelor's               Senior Marketing Analyst   \n",
       "303  45.0    Male             PhD                   Senior Data Engineer   \n",
       "306  49.0  Female        Master's                  Director of Marketing   \n",
       "307  31.0    Male      Bachelor's              Junior Operations Analyst   \n",
       "309  47.0    Male        Master's                  Director of Marketing   \n",
       "310  29.0  Female      Bachelor's  Junior Business Development Associate   \n",
       "311  35.0    Male      Bachelor's               Senior Financial Manager   \n",
       "312  44.0  Female             PhD                Senior Product Designer   \n",
       "313  33.0    Male      Bachelor's                Junior Business Analyst   \n",
       "314  35.0  Female      Bachelor's               Senior Marketing Analyst   \n",
       "315  44.0    Male      Bachelor's               Senior Software Engineer   \n",
       "317  36.0    Male      Bachelor's            Senior Marketing Specialist   \n",
       "328  38.0  Female      Bachelor's                Senior Business Analyst   \n",
       "345  33.0    Male      Bachelor's                Junior Business Analyst   \n",
       "346  35.0  Female      Bachelor's               Senior Marketing Analyst   \n",
       "352  38.0  Female      Bachelor's                Senior Business Analyst   \n",
       "353  48.0    Male        Master's                  Director of Marketing   \n",
       "354  31.0  Female      Bachelor's  Junior Business Development Associate   \n",
       "355  40.0    Male      Bachelor's               Senior Financial Analyst   \n",
       "356  45.0  Female             PhD                     Senior UX Designer   \n",
       "357  33.0    Male      Bachelor's                 Junior Product Manager   \n",
       "358  36.0  Female      Bachelor's               Senior Marketing Manager   \n",
       "359  47.0    Male        Master's                 Director of Operations   \n",
       "360  29.0  Female      Bachelor's                 Junior Project Manager   \n",
       "361  34.0    Male      Bachelor's          Senior Operations Coordinator   \n",
       "362  44.0  Female             PhD                Senior Business Analyst   \n",
       "363  33.0    Male      Bachelor's            Junior Marketing Specialist   \n",
       "364  35.0  Female      Bachelor's               Senior Financial Manager   \n",
       "365  43.0    Male        Master's                  Director of Marketing   \n",
       "366  31.0  Female      Bachelor's               Junior Financial Analyst   \n",
       "367  41.0    Male      Bachelor's                 Senior Product Manager   \n",
       "368  44.0  Female             PhD                   Senior Data Engineer   \n",
       "369  33.0    Male      Bachelor's                Junior Business Analyst   \n",
       "370  35.0  Female      Bachelor's               Senior Marketing Analyst   \n",
       "372  29.0  Female      Bachelor's                 Junior Project Manager   \n",
       "373  34.0    Male      Bachelor's          Senior Operations Coordinator   \n",
       "374  44.0  Female             PhD                Senior Business Analyst   \n",
       "\n",
       "     Experience_years    Salary Location  \n",
       "195               2.0   40000.0   jaipur  \n",
       "250               2.0   40000.0   jaipur  \n",
       "251               9.0  110000.0   jaipur  \n",
       "252              15.0  150000.0   jaipur  \n",
       "253               2.0   40000.0   jaipur  \n",
       "254               8.0   85000.0   jaipur  \n",
       "255              14.0  130000.0   jaipur  \n",
       "256               6.0  100000.0   jaipur  \n",
       "257               9.0   95000.0   jaipur  \n",
       "258              22.0  180000.0   jaipur  \n",
       "260               NaN       NaN   jaipur  \n",
       "262              18.0  160000.0   jaipur  \n",
       "281              11.0   95000.0   jaipur  \n",
       "287               8.0   85000.0   jaipur  \n",
       "303              16.0  150000.0   jaipur  \n",
       "306              21.0  180000.0   jaipur  \n",
       "307               3.0   50000.0   jaipur  \n",
       "309              19.0  170000.0   jaipur  \n",
       "310               1.5   35000.0   jaipur  \n",
       "311               9.0  100000.0   jaipur  \n",
       "312              15.0  150000.0   jaipur  \n",
       "313               4.0   60000.0   jaipur  \n",
       "314               8.0   85000.0   jaipur  \n",
       "315              13.0  130000.0   jaipur  \n",
       "317               8.0   95000.0   jaipur  \n",
       "328              10.0  110000.0   jaipur  \n",
       "345               4.0   60000.0   jaipur  \n",
       "346               8.0   85000.0   jaipur  \n",
       "352              10.0  110000.0   jaipur  \n",
       "353              21.0  180000.0   jaipur  \n",
       "354               3.0   50000.0   jaipur  \n",
       "355              12.0  130000.0   jaipur  \n",
       "356              16.0  160000.0   jaipur  \n",
       "357               4.0   60000.0   jaipur  \n",
       "358               8.0   95000.0   jaipur  \n",
       "359              19.0  170000.0   jaipur  \n",
       "360               2.0   40000.0   jaipur  \n",
       "361               7.0   90000.0   jaipur  \n",
       "362              15.0  150000.0   jaipur  \n",
       "363               5.0   70000.0   jaipur  \n",
       "364               8.0   90000.0   jaipur  \n",
       "365              18.0  170000.0   jaipur  \n",
       "366               3.0   50000.0   jaipur  \n",
       "367              14.0  150000.0   jaipur  \n",
       "368              16.0  160000.0   jaipur  \n",
       "369               4.0   60000.0   jaipur  \n",
       "370               8.0   85000.0   jaipur  \n",
       "372               2.0   40000.0   jaipur  \n",
       "373               7.0   90000.0   jaipur  \n",
       "374              15.0  150000.0   jaipur  "
      ]
     },
     "execution_count": 10,
     "metadata": {},
     "output_type": "execute_result"
    }
   ],
   "source": [
    "df[df.duplicated()]"
   ]
  },
  {
   "cell_type": "code",
   "execution_count": 11,
   "id": "bd4fc850",
   "metadata": {},
   "outputs": [
    {
     "data": {
      "text/plain": [
       "(50, 7)"
      ]
     },
     "execution_count": 11,
     "metadata": {},
     "output_type": "execute_result"
    }
   ],
   "source": [
    "df[df.duplicated()].shape"
   ]
  },
  {
   "cell_type": "markdown",
   "id": "e0a5ecca",
   "metadata": {},
   "source": [
    "# Dropping Duplicates from the data"
   ]
  },
  {
   "cell_type": "code",
   "execution_count": 12,
   "id": "01a0e68e",
   "metadata": {},
   "outputs": [
    {
     "data": {
      "text/plain": [
       "(325, 7)"
      ]
     },
     "execution_count": 12,
     "metadata": {},
     "output_type": "execute_result"
    }
   ],
   "source": [
    "df1=df.drop_duplicates(keep='first')\n",
    "df1.shape"
   ]
  },
  {
   "cell_type": "markdown",
   "id": "1a5135d9",
   "metadata": {},
   "source": [
    "# Missing/ Null value in each columns:"
   ]
  },
  {
   "cell_type": "code",
   "execution_count": 13,
   "id": "0ba10bf4",
   "metadata": {},
   "outputs": [
    {
     "data": {
      "text/plain": [
       "Age                 1\n",
       "Gender              1\n",
       "Education_Level     1\n",
       "Job_Title           1\n",
       "Experience_years    1\n",
       "Salary              1\n",
       "Location            0\n",
       "dtype: int64"
      ]
     },
     "execution_count": 13,
     "metadata": {},
     "output_type": "execute_result"
    }
   ],
   "source": [
    "df1.isnull().sum()"
   ]
  },
  {
   "cell_type": "markdown",
   "id": "1f82cccd",
   "metadata": {},
   "source": [
    "# Dropping Missing values from data:"
   ]
  },
  {
   "cell_type": "code",
   "execution_count": 14,
   "id": "7a7fb370",
   "metadata": {},
   "outputs": [
    {
     "name": "stderr",
     "output_type": "stream",
     "text": [
      "C:\\Users\\reena\\AppData\\Local\\Temp\\ipykernel_16800\\1731805873.py:1: SettingWithCopyWarning: \n",
      "A value is trying to be set on a copy of a slice from a DataFrame\n",
      "\n",
      "See the caveats in the documentation: https://pandas.pydata.org/pandas-docs/stable/user_guide/indexing.html#returning-a-view-versus-a-copy\n",
      "  df1.dropna(how='any', inplace=True)\n"
     ]
    }
   ],
   "source": [
    "df1.dropna(how='any', inplace=True)"
   ]
  },
  {
   "cell_type": "code",
   "execution_count": 15,
   "id": "2ede83ed",
   "metadata": {},
   "outputs": [
    {
     "data": {
      "text/plain": [
       "(324, 7)"
      ]
     },
     "execution_count": 15,
     "metadata": {},
     "output_type": "execute_result"
    }
   ],
   "source": [
    "df1.shape"
   ]
  },
  {
   "cell_type": "code",
   "execution_count": 16,
   "id": "05ee010d",
   "metadata": {},
   "outputs": [
    {
     "data": {
      "text/plain": [
       "Age                 0\n",
       "Gender              0\n",
       "Education_Level     0\n",
       "Job_Title           0\n",
       "Experience_years    0\n",
       "Salary              0\n",
       "Location            0\n",
       "dtype: int64"
      ]
     },
     "execution_count": 16,
     "metadata": {},
     "output_type": "execute_result"
    }
   ],
   "source": [
    "df1.isnull().sum()"
   ]
  },
  {
   "cell_type": "markdown",
   "id": "d0c77acd",
   "metadata": {},
   "source": [
    "# Size of the data after dropping duplicates and null values:"
   ]
  },
  {
   "cell_type": "code",
   "execution_count": 17,
   "id": "dce4bd90",
   "metadata": {},
   "outputs": [
    {
     "data": {
      "text/plain": [
       "(324, 7)"
      ]
     },
     "execution_count": 17,
     "metadata": {},
     "output_type": "execute_result"
    }
   ],
   "source": [
    "df1.shape"
   ]
  },
  {
   "cell_type": "markdown",
   "id": "ad86b16b",
   "metadata": {},
   "source": [
    "# Data Exploration and Visualization:"
   ]
  },
  {
   "cell_type": "markdown",
   "id": "2d3783e2",
   "metadata": {},
   "source": [
    "# Statistics of Numerical Column:"
   ]
  },
  {
   "cell_type": "code",
   "execution_count": 18,
   "id": "8a7bed56",
   "metadata": {},
   "outputs": [
    {
     "data": {
      "text/html": [
       "<div>\n",
       "<style scoped>\n",
       "    .dataframe tbody tr th:only-of-type {\n",
       "        vertical-align: middle;\n",
       "    }\n",
       "\n",
       "    .dataframe tbody tr th {\n",
       "        vertical-align: top;\n",
       "    }\n",
       "\n",
       "    .dataframe thead th {\n",
       "        text-align: right;\n",
       "    }\n",
       "</style>\n",
       "<table border=\"1\" class=\"dataframe\">\n",
       "  <thead>\n",
       "    <tr style=\"text-align: right;\">\n",
       "      <th></th>\n",
       "      <th>Age</th>\n",
       "      <th>Experience_years</th>\n",
       "      <th>Salary</th>\n",
       "    </tr>\n",
       "  </thead>\n",
       "  <tbody>\n",
       "    <tr>\n",
       "      <th>count</th>\n",
       "      <td>324.000000</td>\n",
       "      <td>324.000000</td>\n",
       "      <td>324.000000</td>\n",
       "    </tr>\n",
       "    <tr>\n",
       "      <th>mean</th>\n",
       "      <td>37.382716</td>\n",
       "      <td>10.058642</td>\n",
       "      <td>99985.648148</td>\n",
       "    </tr>\n",
       "    <tr>\n",
       "      <th>std</th>\n",
       "      <td>7.185844</td>\n",
       "      <td>6.650470</td>\n",
       "      <td>48652.271440</td>\n",
       "    </tr>\n",
       "    <tr>\n",
       "      <th>min</th>\n",
       "      <td>23.000000</td>\n",
       "      <td>0.000000</td>\n",
       "      <td>350.000000</td>\n",
       "    </tr>\n",
       "    <tr>\n",
       "      <th>25%</th>\n",
       "      <td>31.000000</td>\n",
       "      <td>4.000000</td>\n",
       "      <td>55000.000000</td>\n",
       "    </tr>\n",
       "    <tr>\n",
       "      <th>50%</th>\n",
       "      <td>36.500000</td>\n",
       "      <td>9.000000</td>\n",
       "      <td>95000.000000</td>\n",
       "    </tr>\n",
       "    <tr>\n",
       "      <th>75%</th>\n",
       "      <td>44.000000</td>\n",
       "      <td>16.000000</td>\n",
       "      <td>140000.000000</td>\n",
       "    </tr>\n",
       "    <tr>\n",
       "      <th>max</th>\n",
       "      <td>53.000000</td>\n",
       "      <td>25.000000</td>\n",
       "      <td>250000.000000</td>\n",
       "    </tr>\n",
       "  </tbody>\n",
       "</table>\n",
       "</div>"
      ],
      "text/plain": [
       "              Age  Experience_years         Salary\n",
       "count  324.000000        324.000000     324.000000\n",
       "mean    37.382716         10.058642   99985.648148\n",
       "std      7.185844          6.650470   48652.271440\n",
       "min     23.000000          0.000000     350.000000\n",
       "25%     31.000000          4.000000   55000.000000\n",
       "50%     36.500000          9.000000   95000.000000\n",
       "75%     44.000000         16.000000  140000.000000\n",
       "max     53.000000         25.000000  250000.000000"
      ]
     },
     "execution_count": 18,
     "metadata": {},
     "output_type": "execute_result"
    }
   ],
   "source": [
    "df1.describe()"
   ]
  },
  {
   "cell_type": "markdown",
   "id": "df96ccde",
   "metadata": {},
   "source": [
    "# Correlation Matrix among Numerical Features:"
   ]
  },
  {
   "cell_type": "code",
   "execution_count": 19,
   "id": "4d6a1049",
   "metadata": {},
   "outputs": [
    {
     "data": {
      "text/html": [
       "<div>\n",
       "<style scoped>\n",
       "    .dataframe tbody tr th:only-of-type {\n",
       "        vertical-align: middle;\n",
       "    }\n",
       "\n",
       "    .dataframe tbody tr th {\n",
       "        vertical-align: top;\n",
       "    }\n",
       "\n",
       "    .dataframe thead th {\n",
       "        text-align: right;\n",
       "    }\n",
       "</style>\n",
       "<table border=\"1\" class=\"dataframe\">\n",
       "  <thead>\n",
       "    <tr style=\"text-align: right;\">\n",
       "      <th></th>\n",
       "      <th>Age</th>\n",
       "      <th>Experience_years</th>\n",
       "      <th>Salary</th>\n",
       "    </tr>\n",
       "  </thead>\n",
       "  <tbody>\n",
       "    <tr>\n",
       "      <th>Age</th>\n",
       "      <td>1.000000</td>\n",
       "      <td>0.979192</td>\n",
       "      <td>0.916543</td>\n",
       "    </tr>\n",
       "    <tr>\n",
       "      <th>Experience_years</th>\n",
       "      <td>0.979192</td>\n",
       "      <td>1.000000</td>\n",
       "      <td>0.924455</td>\n",
       "    </tr>\n",
       "    <tr>\n",
       "      <th>Salary</th>\n",
       "      <td>0.916543</td>\n",
       "      <td>0.924455</td>\n",
       "      <td>1.000000</td>\n",
       "    </tr>\n",
       "  </tbody>\n",
       "</table>\n",
       "</div>"
      ],
      "text/plain": [
       "                       Age  Experience_years    Salary\n",
       "Age               1.000000          0.979192  0.916543\n",
       "Experience_years  0.979192          1.000000  0.924455\n",
       "Salary            0.916543          0.924455  1.000000"
      ]
     },
     "execution_count": 19,
     "metadata": {},
     "output_type": "execute_result"
    }
   ],
   "source": [
    "corr=df1[['Age','Experience_years','Salary']].corr()\n",
    "corr"
   ]
  },
  {
   "cell_type": "code",
   "execution_count": 20,
   "id": "aaad2f47",
   "metadata": {},
   "outputs": [
    {
     "data": {
      "text/plain": [
       "<Axes: >"
      ]
     },
     "execution_count": 20,
     "metadata": {},
     "output_type": "execute_result"
    },
    {
     "data": {
      "image/png": "[encoded data removed]",
      "text/plain": [
       "<Figure size 640x480 with 2 Axes>"
      ]
     },
     "metadata": {},
     "output_type": "display_data"
    }
   ],
   "source": [
    "sns.heatmap(corr,annot=True)"
   ]
  },
  {
   "cell_type": "markdown",
   "id": "10253bf6",
   "metadata": {},
   "source": [
    "# Data Visualization- Bar Chart,Box plot, Histogram "
   ]
  },
  {
   "cell_type": "code",
   "execution_count": 21,
   "id": "3416ef80",
   "metadata": {},
   "outputs": [
    {
     "data": {
      "text/plain": [
       "Bachelor's    191\n",
       "Master's       91\n",
       "PhD            42\n",
       "Name: Education_Level, dtype: int64"
      ]
     },
     "execution_count": 21,
     "metadata": {},
     "output_type": "execute_result"
    }
   ],
   "source": [
    "df1['Education_Level'].value_counts()"
   ]
  },
  {
   "cell_type": "code",
   "execution_count": 22,
   "id": "2df6d352",
   "metadata": {},
   "outputs": [
    {
     "data": {
      "text/plain": [
       "<Axes: >"
      ]
     },
     "execution_count": 22,
     "metadata": {},
     "output_type": "execute_result"
    },
    {
     "data": {
      "image/png": "[encoded data removed]",
      "text/plain": [
       "<Figure size 640x480 with 1 Axes>"
      ]
     },
     "metadata": {},
     "output_type": "display_data"
    }
   ],
   "source": [
    "df1['Education_Level'].value_counts().plot(kind='bar')"
   ]
  },
  {
   "cell_type": "code",
   "execution_count": 23,
   "id": "dc2911dd",
   "metadata": {},
   "outputs": [
    {
     "data": {
      "text/plain": [
       "Director of Marketing              12\n",
       "Director of Operations             11\n",
       "Senior Business Analyst            10\n",
       "Senior Marketing Analyst            9\n",
       "Senior Marketing Manager            9\n",
       "                                   ..\n",
       "Business Development Manager        1\n",
       "Customer Service Representative     1\n",
       "IT Manager                          1\n",
       "Digital Marketing Manager           1\n",
       "Junior Web Developer                1\n",
       "Name: Job_Title, Length: 174, dtype: int64"
      ]
     },
     "execution_count": 23,
     "metadata": {},
     "output_type": "execute_result"
    }
   ],
   "source": [
    "df['Job_Title'].value_counts()"
   ]
  },
  {
   "cell_type": "code",
   "execution_count": 24,
   "id": "999ad9ca",
   "metadata": {},
   "outputs": [
    {
     "data": {
      "text/plain": [
       "<Axes: >"
      ]
     },
     "execution_count": 24,
     "metadata": {},
     "output_type": "execute_result"
    },
    {
     "data": {
      "image/png": "[encoded data removed]",
      "text/plain": [
       "<Figure size 640x480 with 1 Axes>"
      ]
     },
     "metadata": {},
     "output_type": "display_data"
    }
   ],
   "source": [
    "df1['Gender'].value_counts().plot(kind='bar')"
   ]
  },
  {
   "cell_type": "code",
   "execution_count": 25,
   "id": "3cadddb1",
   "metadata": {},
   "outputs": [
    {
     "data": {
      "text/plain": [
       "<Axes: ylabel='Frequency'>"
      ]
     },
     "execution_count": 25,
     "metadata": {},
     "output_type": "execute_result"
    },
    {
     "data": {
      "image/png": "[encoded data removed]",
      "text/plain": [
       "<Figure size 640x480 with 1 Axes>"
      ]
     },
     "metadata": {},
     "output_type": "display_data"
    }
   ],
   "source": [
    "df1.Age.plot(kind='hist')"
   ]
  },
  {
   "cell_type": "code",
   "execution_count": 26,
   "id": "3fcf46d5",
   "metadata": {},
   "outputs": [
    {
     "data": {
      "text/plain": [
       "<Axes: >"
      ]
     },
     "execution_count": 26,
     "metadata": {},
     "output_type": "execute_result"
    },
    {
     "data": {
      "image/png": "[encoded data removed]",
      "text/plain": [
       "<Figure size 640x480 with 1 Axes>"
      ]
     },
     "metadata": {},
     "output_type": "display_data"
    }
   ],
   "source": [
    "df1.Age.plot(kind='box')"
   ]
  },
  {
   "cell_type": "code",
   "execution_count": 27,
   "id": "eb1a38ca",
   "metadata": {},
   "outputs": [
    {
     "data": {
      "text/plain": [
       "<Axes: >"
      ]
     },
     "execution_count": 27,
     "metadata": {},
     "output_type": "execute_result"
    },
    {
     "data": {
      "image/png": "[encoded data removed]",
      "text/plain": [
       "<Figure size 640x480 with 1 Axes>"
      ]
     },
     "metadata": {},
     "output_type": "display_data"
    }
   ],
   "source": [
    "df1['Location'].value_counts().plot(kind='box')"
   ]
  },
  {
   "cell_type": "code",
   "execution_count": 28,
   "id": "1e9d4f73",
   "metadata": {},
   "outputs": [
    {
     "data": {
      "text/plain": [
       "<Axes: >"
      ]
     },
     "execution_count": 28,
     "metadata": {},
     "output_type": "execute_result"
    },
    {
     "data": {
      "image/png": "[encoded data removed]",
      "text/plain": [
       "<Figure size 640x480 with 1 Axes>"
      ]
     },
     "metadata": {},
     "output_type": "display_data"
    }
   ],
   "source": [
    "df1['Experience_years'].value_counts().plot(kind='box')"
   ]
  },
  {
   "cell_type": "code",
   "execution_count": 29,
   "id": "cd27c4e8",
   "metadata": {},
   "outputs": [
    {
     "data": {
      "text/plain": [
       "<Axes: >"
      ]
     },
     "execution_count": 29,
     "metadata": {},
     "output_type": "execute_result"
    },
    {
     "data": {
      "image/png": "[encoded data removed]",
      "text/plain": [
       "<Figure size 640x480 with 1 Axes>"
      ]
     },
     "metadata": {},
     "output_type": "display_data"
    }
   ],
   "source": [
    "df1['Salary'].value_counts().plot(kind='box')"
   ]
  },
  {
   "cell_type": "code",
   "execution_count": 30,
   "id": "3ee2d719",
   "metadata": {},
   "outputs": [
    {
     "data": {
      "text/plain": [
       "<Axes: ylabel='Frequency'>"
      ]
     },
     "execution_count": 30,
     "metadata": {},
     "output_type": "execute_result"
    },
    {
     "data": {
      "image/png": "[encoded data removed]",
      "text/plain": [
       "<Figure size 640x480 with 1 Axes>"
      ]
     },
     "metadata": {},
     "output_type": "display_data"
    }
   ],
   "source": [
    "df1['Salary'].value_counts().plot(kind='hist')"
   ]
  },
  {
   "cell_type": "markdown",
   "id": "9afe20c3",
   "metadata": {},
   "source": [
    "# Feature Engineering:"
   ]
  },
  {
   "cell_type": "markdown",
   "id": "63ede299",
   "metadata": {},
   "source": [
    "# Label Encoding:"
   ]
  },
  {
   "cell_type": "code",
   "execution_count": 31,
   "id": "ee801c1d",
   "metadata": {},
   "outputs": [],
   "source": [
    "from sklearn.preprocessing import LabelEncoder\n",
    "Label_Encoder= LabelEncoder()"
   ]
  },
  {
   "cell_type": "code",
   "execution_count": 32,
   "id": "ca06a74c",
   "metadata": {},
   "outputs": [
    {
     "name": "stderr",
     "output_type": "stream",
     "text": [
      "C:\\Users\\reena\\AppData\\Local\\Temp\\ipykernel_16800\\4207369250.py:1: SettingWithCopyWarning: \n",
      "A value is trying to be set on a copy of a slice from a DataFrame.\n",
      "Try using .loc[row_indexer,col_indexer] = value instead\n",
      "\n",
      "See the caveats in the documentation: https://pandas.pydata.org/pandas-docs/stable/user_guide/indexing.html#returning-a-view-versus-a-copy\n",
      "  df1['Gender_Encode']=Label_Encoder.fit_transform(df1['Gender'])\n",
      "C:\\Users\\reena\\AppData\\Local\\Temp\\ipykernel_16800\\4207369250.py:2: SettingWithCopyWarning: \n",
      "A value is trying to be set on a copy of a slice from a DataFrame.\n",
      "Try using .loc[row_indexer,col_indexer] = value instead\n",
      "\n",
      "See the caveats in the documentation: https://pandas.pydata.org/pandas-docs/stable/user_guide/indexing.html#returning-a-view-versus-a-copy\n",
      "  df1['Education_Level_Encode']=Label_Encoder.fit_transform(df1['Education_Level'])\n",
      "C:\\Users\\reena\\AppData\\Local\\Temp\\ipykernel_16800\\4207369250.py:3: SettingWithCopyWarning: \n",
      "A value is trying to be set on a copy of a slice from a DataFrame.\n",
      "Try using .loc[row_indexer,col_indexer] = value instead\n",
      "\n",
      "See the caveats in the documentation: https://pandas.pydata.org/pandas-docs/stable/user_guide/indexing.html#returning-a-view-versus-a-copy\n",
      "  df1['Job_Title_Encode']=Label_Encoder.fit_transform(df1['Job_Title'])\n",
      "C:\\Users\\reena\\AppData\\Local\\Temp\\ipykernel_16800\\4207369250.py:4: SettingWithCopyWarning: \n",
      "A value is trying to be set on a copy of a slice from a DataFrame.\n",
      "Try using .loc[row_indexer,col_indexer] = value instead\n",
      "\n",
      "See the caveats in the documentation: https://pandas.pydata.org/pandas-docs/stable/user_guide/indexing.html#returning-a-view-versus-a-copy\n",
      "  df1['Location_Encode']=Label_Encoder.fit_transform(df1['Location'])\n"
     ]
    }
   ],
   "source": [
    "df1['Gender_Encode']=Label_Encoder.fit_transform(df1['Gender'])\n",
    "df1['Education_Level_Encode']=Label_Encoder.fit_transform(df1['Education_Level'])\n",
    "df1['Job_Title_Encode']=Label_Encoder.fit_transform(df1['Job_Title'])\n",
    "df1['Location_Encode']=Label_Encoder.fit_transform(df1['Location'])\n"
   ]
  },
  {
   "cell_type": "markdown",
   "id": "c405abfc",
   "metadata": {},
   "source": [
    "# Data after Label Encoding:"
   ]
  },
  {
   "cell_type": "code",
   "execution_count": 33,
   "id": "d2c3d3c0",
   "metadata": {},
   "outputs": [
    {
     "data": {
      "text/html": [
       "<div>\n",
       "<style scoped>\n",
       "    .dataframe tbody tr th:only-of-type {\n",
       "        vertical-align: middle;\n",
       "    }\n",
       "\n",
       "    .dataframe tbody tr th {\n",
       "        vertical-align: top;\n",
       "    }\n",
       "\n",
       "    .dataframe thead th {\n",
       "        text-align: right;\n",
       "    }\n",
       "</style>\n",
       "<table border=\"1\" class=\"dataframe\">\n",
       "  <thead>\n",
       "    <tr style=\"text-align: right;\">\n",
       "      <th></th>\n",
       "      <th>Age</th>\n",
       "      <th>Gender</th>\n",
       "      <th>Education_Level</th>\n",
       "      <th>Job_Title</th>\n",
       "      <th>Experience_years</th>\n",
       "      <th>Salary</th>\n",
       "      <th>Location</th>\n",
       "      <th>Gender_Encode</th>\n",
       "      <th>Education_Level_Encode</th>\n",
       "      <th>Job_Title_Encode</th>\n",
       "      <th>Location_Encode</th>\n",
       "    </tr>\n",
       "  </thead>\n",
       "  <tbody>\n",
       "    <tr>\n",
       "      <th>0</th>\n",
       "      <td>32.0</td>\n",
       "      <td>Male</td>\n",
       "      <td>Bachelor's</td>\n",
       "      <td>Software Engineer</td>\n",
       "      <td>5.0</td>\n",
       "      <td>90000.0</td>\n",
       "      <td>jaipur</td>\n",
       "      <td>1</td>\n",
       "      <td>0</td>\n",
       "      <td>159</td>\n",
       "      <td>0</td>\n",
       "    </tr>\n",
       "    <tr>\n",
       "      <th>1</th>\n",
       "      <td>28.0</td>\n",
       "      <td>Female</td>\n",
       "      <td>Master's</td>\n",
       "      <td>Data Analyst</td>\n",
       "      <td>3.0</td>\n",
       "      <td>65000.0</td>\n",
       "      <td>jaipur</td>\n",
       "      <td>0</td>\n",
       "      <td>1</td>\n",
       "      <td>17</td>\n",
       "      <td>0</td>\n",
       "    </tr>\n",
       "    <tr>\n",
       "      <th>2</th>\n",
       "      <td>45.0</td>\n",
       "      <td>Male</td>\n",
       "      <td>PhD</td>\n",
       "      <td>Senior Manager</td>\n",
       "      <td>15.0</td>\n",
       "      <td>150000.0</td>\n",
       "      <td>jaipur</td>\n",
       "      <td>1</td>\n",
       "      <td>2</td>\n",
       "      <td>130</td>\n",
       "      <td>0</td>\n",
       "    </tr>\n",
       "    <tr>\n",
       "      <th>3</th>\n",
       "      <td>36.0</td>\n",
       "      <td>Female</td>\n",
       "      <td>Bachelor's</td>\n",
       "      <td>Sales Associate</td>\n",
       "      <td>7.0</td>\n",
       "      <td>60000.0</td>\n",
       "      <td>jaipur</td>\n",
       "      <td>0</td>\n",
       "      <td>0</td>\n",
       "      <td>101</td>\n",
       "      <td>0</td>\n",
       "    </tr>\n",
       "    <tr>\n",
       "      <th>4</th>\n",
       "      <td>52.0</td>\n",
       "      <td>Male</td>\n",
       "      <td>Master's</td>\n",
       "      <td>Director</td>\n",
       "      <td>20.0</td>\n",
       "      <td>200000.0</td>\n",
       "      <td>jaipur</td>\n",
       "      <td>1</td>\n",
       "      <td>1</td>\n",
       "      <td>22</td>\n",
       "      <td>0</td>\n",
       "    </tr>\n",
       "  </tbody>\n",
       "</table>\n",
       "</div>"
      ],
      "text/plain": [
       "    Age  Gender Education_Level          Job_Title  Experience_years  \\\n",
       "0  32.0    Male      Bachelor's  Software Engineer               5.0   \n",
       "1  28.0  Female        Master's       Data Analyst               3.0   \n",
       "2  45.0    Male             PhD     Senior Manager              15.0   \n",
       "3  36.0  Female      Bachelor's    Sales Associate               7.0   \n",
       "4  52.0    Male        Master's           Director              20.0   \n",
       "\n",
       "     Salary Location  Gender_Encode  Education_Level_Encode  Job_Title_Encode  \\\n",
       "0   90000.0   jaipur              1                       0               159   \n",
       "1   65000.0   jaipur              0                       1                17   \n",
       "2  150000.0   jaipur              1                       2               130   \n",
       "3   60000.0   jaipur              0                       0               101   \n",
       "4  200000.0   jaipur              1                       1                22   \n",
       "\n",
       "   Location_Encode  \n",
       "0                0  \n",
       "1                0  \n",
       "2                0  \n",
       "3                0  \n",
       "4                0  "
      ]
     },
     "execution_count": 33,
     "metadata": {},
     "output_type": "execute_result"
    }
   ],
   "source": [
    "df1.head()"
   ]
  },
  {
   "cell_type": "code",
   "execution_count": 34,
   "id": "f4e8d602",
   "metadata": {},
   "outputs": [],
   "source": [
    "from sklearn.preprocessing import StandardScaler\n",
    "std_scaler=StandardScaler()"
   ]
  },
  {
   "cell_type": "markdown",
   "id": "7d274afa",
   "metadata": {},
   "source": [
    "# Feature Scalling:"
   ]
  },
  {
   "cell_type": "code",
   "execution_count": 35,
   "id": "23a74360",
   "metadata": {},
   "outputs": [
    {
     "name": "stderr",
     "output_type": "stream",
     "text": [
      "C:\\Users\\reena\\AppData\\Local\\Temp\\ipykernel_16800\\2436489167.py:1: SettingWithCopyWarning: \n",
      "A value is trying to be set on a copy of a slice from a DataFrame.\n",
      "Try using .loc[row_indexer,col_indexer] = value instead\n",
      "\n",
      "See the caveats in the documentation: https://pandas.pydata.org/pandas-docs/stable/user_guide/indexing.html#returning-a-view-versus-a-copy\n",
      "  df1['Age_scaled']=std_scaler.fit_transform(df1[['Age']])\n",
      "C:\\Users\\reena\\AppData\\Local\\Temp\\ipykernel_16800\\2436489167.py:2: SettingWithCopyWarning: \n",
      "A value is trying to be set on a copy of a slice from a DataFrame.\n",
      "Try using .loc[row_indexer,col_indexer] = value instead\n",
      "\n",
      "See the caveats in the documentation: https://pandas.pydata.org/pandas-docs/stable/user_guide/indexing.html#returning-a-view-versus-a-copy\n",
      "  df1['Experience_years_scaled']=std_scaler.fit_transform(df1[['Experience_years']])\n"
     ]
    },
    {
     "data": {
      "text/html": [
       "<div>\n",
       "<style scoped>\n",
       "    .dataframe tbody tr th:only-of-type {\n",
       "        vertical-align: middle;\n",
       "    }\n",
       "\n",
       "    .dataframe tbody tr th {\n",
       "        vertical-align: top;\n",
       "    }\n",
       "\n",
       "    .dataframe thead th {\n",
       "        text-align: right;\n",
       "    }\n",
       "</style>\n",
       "<table border=\"1\" class=\"dataframe\">\n",
       "  <thead>\n",
       "    <tr style=\"text-align: right;\">\n",
       "      <th></th>\n",
       "      <th>Age</th>\n",
       "      <th>Gender</th>\n",
       "      <th>Education_Level</th>\n",
       "      <th>Job_Title</th>\n",
       "      <th>Experience_years</th>\n",
       "      <th>Salary</th>\n",
       "      <th>Location</th>\n",
       "      <th>Gender_Encode</th>\n",
       "      <th>Education_Level_Encode</th>\n",
       "      <th>Job_Title_Encode</th>\n",
       "      <th>Location_Encode</th>\n",
       "      <th>Age_scaled</th>\n",
       "      <th>Experience_years_scaled</th>\n",
       "    </tr>\n",
       "  </thead>\n",
       "  <tbody>\n",
       "    <tr>\n",
       "      <th>0</th>\n",
       "      <td>32.0</td>\n",
       "      <td>Male</td>\n",
       "      <td>Bachelor's</td>\n",
       "      <td>Software Engineer</td>\n",
       "      <td>5.0</td>\n",
       "      <td>90000.0</td>\n",
       "      <td>jaipur</td>\n",
       "      <td>1</td>\n",
       "      <td>0</td>\n",
       "      <td>159</td>\n",
       "      <td>0</td>\n",
       "      <td>-0.750231</td>\n",
       "      <td>-0.761821</td>\n",
       "    </tr>\n",
       "    <tr>\n",
       "      <th>1</th>\n",
       "      <td>28.0</td>\n",
       "      <td>Female</td>\n",
       "      <td>Master's</td>\n",
       "      <td>Data Analyst</td>\n",
       "      <td>3.0</td>\n",
       "      <td>65000.0</td>\n",
       "      <td>jaipur</td>\n",
       "      <td>0</td>\n",
       "      <td>1</td>\n",
       "      <td>17</td>\n",
       "      <td>0</td>\n",
       "      <td>-1.307742</td>\n",
       "      <td>-1.063017</td>\n",
       "    </tr>\n",
       "    <tr>\n",
       "      <th>2</th>\n",
       "      <td>45.0</td>\n",
       "      <td>Male</td>\n",
       "      <td>PhD</td>\n",
       "      <td>Senior Manager</td>\n",
       "      <td>15.0</td>\n",
       "      <td>150000.0</td>\n",
       "      <td>jaipur</td>\n",
       "      <td>1</td>\n",
       "      <td>2</td>\n",
       "      <td>130</td>\n",
       "      <td>0</td>\n",
       "      <td>1.061680</td>\n",
       "      <td>0.744158</td>\n",
       "    </tr>\n",
       "    <tr>\n",
       "      <th>3</th>\n",
       "      <td>36.0</td>\n",
       "      <td>Female</td>\n",
       "      <td>Bachelor's</td>\n",
       "      <td>Sales Associate</td>\n",
       "      <td>7.0</td>\n",
       "      <td>60000.0</td>\n",
       "      <td>jaipur</td>\n",
       "      <td>0</td>\n",
       "      <td>0</td>\n",
       "      <td>101</td>\n",
       "      <td>0</td>\n",
       "      <td>-0.192720</td>\n",
       "      <td>-0.460625</td>\n",
       "    </tr>\n",
       "    <tr>\n",
       "      <th>4</th>\n",
       "      <td>52.0</td>\n",
       "      <td>Male</td>\n",
       "      <td>Master's</td>\n",
       "      <td>Director</td>\n",
       "      <td>20.0</td>\n",
       "      <td>200000.0</td>\n",
       "      <td>jaipur</td>\n",
       "      <td>1</td>\n",
       "      <td>1</td>\n",
       "      <td>22</td>\n",
       "      <td>0</td>\n",
       "      <td>2.037324</td>\n",
       "      <td>1.497148</td>\n",
       "    </tr>\n",
       "  </tbody>\n",
       "</table>\n",
       "</div>"
      ],
      "text/plain": [
       "    Age  Gender Education_Level          Job_Title  Experience_years  \\\n",
       "0  32.0    Male      Bachelor's  Software Engineer               5.0   \n",
       "1  28.0  Female        Master's       Data Analyst               3.0   \n",
       "2  45.0    Male             PhD     Senior Manager              15.0   \n",
       "3  36.0  Female      Bachelor's    Sales Associate               7.0   \n",
       "4  52.0    Male        Master's           Director              20.0   \n",
       "\n",
       "     Salary Location  Gender_Encode  Education_Level_Encode  Job_Title_Encode  \\\n",
       "0   90000.0   jaipur              1                       0               159   \n",
       "1   65000.0   jaipur              0                       1                17   \n",
       "2  150000.0   jaipur              1                       2               130   \n",
       "3   60000.0   jaipur              0                       0               101   \n",
       "4  200000.0   jaipur              1                       1                22   \n",
       "\n",
       "   Location_Encode  Age_scaled  Experience_years_scaled  \n",
       "0                0   -0.750231                -0.761821  \n",
       "1                0   -1.307742                -1.063017  \n",
       "2                0    1.061680                 0.744158  \n",
       "3                0   -0.192720                -0.460625  \n",
       "4                0    2.037324                 1.497148  "
      ]
     },
     "execution_count": 35,
     "metadata": {},
     "output_type": "execute_result"
    }
   ],
   "source": [
    "df1['Age_scaled']=std_scaler.fit_transform(df1[['Age']])\n",
    "df1['Experience_years_scaled']=std_scaler.fit_transform(df1[['Experience_years']])\n",
    "df1.head()"
   ]
  },
  {
   "cell_type": "code",
   "execution_count": 36,
   "id": "4912178f",
   "metadata": {},
   "outputs": [
    {
     "data": {
      "text/html": [
       "<div>\n",
       "<style scoped>\n",
       "    .dataframe tbody tr th:only-of-type {\n",
       "        vertical-align: middle;\n",
       "    }\n",
       "\n",
       "    .dataframe tbody tr th {\n",
       "        vertical-align: top;\n",
       "    }\n",
       "\n",
       "    .dataframe thead th {\n",
       "        text-align: right;\n",
       "    }\n",
       "</style>\n",
       "<table border=\"1\" class=\"dataframe\">\n",
       "  <thead>\n",
       "    <tr style=\"text-align: right;\">\n",
       "      <th></th>\n",
       "      <th>Age</th>\n",
       "      <th>Gender</th>\n",
       "      <th>Education_Level</th>\n",
       "      <th>Job_Title</th>\n",
       "      <th>Experience_years</th>\n",
       "      <th>Salary</th>\n",
       "      <th>Location</th>\n",
       "      <th>Gender_Encode</th>\n",
       "      <th>Education_Level_Encode</th>\n",
       "      <th>Job_Title_Encode</th>\n",
       "      <th>Location_Encode</th>\n",
       "      <th>Age_scaled</th>\n",
       "      <th>Experience_years_scaled</th>\n",
       "    </tr>\n",
       "  </thead>\n",
       "  <tbody>\n",
       "    <tr>\n",
       "      <th>0</th>\n",
       "      <td>32.0</td>\n",
       "      <td>Male</td>\n",
       "      <td>Bachelor's</td>\n",
       "      <td>Software Engineer</td>\n",
       "      <td>5.0</td>\n",
       "      <td>90000.0</td>\n",
       "      <td>jaipur</td>\n",
       "      <td>1</td>\n",
       "      <td>0</td>\n",
       "      <td>159</td>\n",
       "      <td>0</td>\n",
       "      <td>-0.750231</td>\n",
       "      <td>-0.761821</td>\n",
       "    </tr>\n",
       "    <tr>\n",
       "      <th>1</th>\n",
       "      <td>28.0</td>\n",
       "      <td>Female</td>\n",
       "      <td>Master's</td>\n",
       "      <td>Data Analyst</td>\n",
       "      <td>3.0</td>\n",
       "      <td>65000.0</td>\n",
       "      <td>jaipur</td>\n",
       "      <td>0</td>\n",
       "      <td>1</td>\n",
       "      <td>17</td>\n",
       "      <td>0</td>\n",
       "      <td>-1.307742</td>\n",
       "      <td>-1.063017</td>\n",
       "    </tr>\n",
       "    <tr>\n",
       "      <th>2</th>\n",
       "      <td>45.0</td>\n",
       "      <td>Male</td>\n",
       "      <td>PhD</td>\n",
       "      <td>Senior Manager</td>\n",
       "      <td>15.0</td>\n",
       "      <td>150000.0</td>\n",
       "      <td>jaipur</td>\n",
       "      <td>1</td>\n",
       "      <td>2</td>\n",
       "      <td>130</td>\n",
       "      <td>0</td>\n",
       "      <td>1.061680</td>\n",
       "      <td>0.744158</td>\n",
       "    </tr>\n",
       "    <tr>\n",
       "      <th>3</th>\n",
       "      <td>36.0</td>\n",
       "      <td>Female</td>\n",
       "      <td>Bachelor's</td>\n",
       "      <td>Sales Associate</td>\n",
       "      <td>7.0</td>\n",
       "      <td>60000.0</td>\n",
       "      <td>jaipur</td>\n",
       "      <td>0</td>\n",
       "      <td>0</td>\n",
       "      <td>101</td>\n",
       "      <td>0</td>\n",
       "      <td>-0.192720</td>\n",
       "      <td>-0.460625</td>\n",
       "    </tr>\n",
       "    <tr>\n",
       "      <th>4</th>\n",
       "      <td>52.0</td>\n",
       "      <td>Male</td>\n",
       "      <td>Master's</td>\n",
       "      <td>Director</td>\n",
       "      <td>20.0</td>\n",
       "      <td>200000.0</td>\n",
       "      <td>jaipur</td>\n",
       "      <td>1</td>\n",
       "      <td>1</td>\n",
       "      <td>22</td>\n",
       "      <td>0</td>\n",
       "      <td>2.037324</td>\n",
       "      <td>1.497148</td>\n",
       "    </tr>\n",
       "  </tbody>\n",
       "</table>\n",
       "</div>"
      ],
      "text/plain": [
       "    Age  Gender Education_Level          Job_Title  Experience_years  \\\n",
       "0  32.0    Male      Bachelor's  Software Engineer               5.0   \n",
       "1  28.0  Female        Master's       Data Analyst               3.0   \n",
       "2  45.0    Male             PhD     Senior Manager              15.0   \n",
       "3  36.0  Female      Bachelor's    Sales Associate               7.0   \n",
       "4  52.0    Male        Master's           Director              20.0   \n",
       "\n",
       "     Salary Location  Gender_Encode  Education_Level_Encode  Job_Title_Encode  \\\n",
       "0   90000.0   jaipur              1                       0               159   \n",
       "1   65000.0   jaipur              0                       1                17   \n",
       "2  150000.0   jaipur              1                       2               130   \n",
       "3   60000.0   jaipur              0                       0               101   \n",
       "4  200000.0   jaipur              1                       1                22   \n",
       "\n",
       "   Location_Encode  Age_scaled  Experience_years_scaled  \n",
       "0                0   -0.750231                -0.761821  \n",
       "1                0   -1.307742                -1.063017  \n",
       "2                0    1.061680                 0.744158  \n",
       "3                0   -0.192720                -0.460625  \n",
       "4                0    2.037324                 1.497148  "
      ]
     },
     "execution_count": 36,
     "metadata": {},
     "output_type": "execute_result"
    }
   ],
   "source": [
    "df1.head()"
   ]
  },
  {
   "cell_type": "markdown",
   "id": "a661af5b",
   "metadata": {},
   "source": [
    "# Dependent and Independent features:"
   ]
  },
  {
   "cell_type": "code",
   "execution_count": 37,
   "id": "e43eb60b",
   "metadata": {},
   "outputs": [],
   "source": [
    "x=df1[['Age_scaled','Gender_Encode','Education_Level_Encode','Job_Title_Encode','Location_Encode','Experience_years_scaled']]\n",
    "y=df1['Salary']"
   ]
  },
  {
   "cell_type": "code",
   "execution_count": 38,
   "id": "7c6189a0",
   "metadata": {},
   "outputs": [
    {
     "data": {
      "text/html": [
       "<div>\n",
       "<style scoped>\n",
       "    .dataframe tbody tr th:only-of-type {\n",
       "        vertical-align: middle;\n",
       "    }\n",
       "\n",
       "    .dataframe tbody tr th {\n",
       "        vertical-align: top;\n",
       "    }\n",
       "\n",
       "    .dataframe thead th {\n",
       "        text-align: right;\n",
       "    }\n",
       "</style>\n",
       "<table border=\"1\" class=\"dataframe\">\n",
       "  <thead>\n",
       "    <tr style=\"text-align: right;\">\n",
       "      <th></th>\n",
       "      <th>Age_scaled</th>\n",
       "      <th>Gender_Encode</th>\n",
       "      <th>Education_Level_Encode</th>\n",
       "      <th>Job_Title_Encode</th>\n",
       "      <th>Location_Encode</th>\n",
       "      <th>Experience_years_scaled</th>\n",
       "    </tr>\n",
       "  </thead>\n",
       "  <tbody>\n",
       "    <tr>\n",
       "      <th>0</th>\n",
       "      <td>-0.750231</td>\n",
       "      <td>1</td>\n",
       "      <td>0</td>\n",
       "      <td>159</td>\n",
       "      <td>0</td>\n",
       "      <td>-0.761821</td>\n",
       "    </tr>\n",
       "    <tr>\n",
       "      <th>1</th>\n",
       "      <td>-1.307742</td>\n",
       "      <td>0</td>\n",
       "      <td>1</td>\n",
       "      <td>17</td>\n",
       "      <td>0</td>\n",
       "      <td>-1.063017</td>\n",
       "    </tr>\n",
       "    <tr>\n",
       "      <th>2</th>\n",
       "      <td>1.061680</td>\n",
       "      <td>1</td>\n",
       "      <td>2</td>\n",
       "      <td>130</td>\n",
       "      <td>0</td>\n",
       "      <td>0.744158</td>\n",
       "    </tr>\n",
       "    <tr>\n",
       "      <th>3</th>\n",
       "      <td>-0.192720</td>\n",
       "      <td>0</td>\n",
       "      <td>0</td>\n",
       "      <td>101</td>\n",
       "      <td>0</td>\n",
       "      <td>-0.460625</td>\n",
       "    </tr>\n",
       "    <tr>\n",
       "      <th>4</th>\n",
       "      <td>2.037324</td>\n",
       "      <td>1</td>\n",
       "      <td>1</td>\n",
       "      <td>22</td>\n",
       "      <td>0</td>\n",
       "      <td>1.497148</td>\n",
       "    </tr>\n",
       "  </tbody>\n",
       "</table>\n",
       "</div>"
      ],
      "text/plain": [
       "   Age_scaled  Gender_Encode  Education_Level_Encode  Job_Title_Encode  \\\n",
       "0   -0.750231              1                       0               159   \n",
       "1   -1.307742              0                       1                17   \n",
       "2    1.061680              1                       2               130   \n",
       "3   -0.192720              0                       0               101   \n",
       "4    2.037324              1                       1                22   \n",
       "\n",
       "   Location_Encode  Experience_years_scaled  \n",
       "0                0                -0.761821  \n",
       "1                0                -1.063017  \n",
       "2                0                 0.744158  \n",
       "3                0                -0.460625  \n",
       "4                0                 1.497148  "
      ]
     },
     "execution_count": 38,
     "metadata": {},
     "output_type": "execute_result"
    }
   ],
   "source": [
    "x.head()"
   ]
  },
  {
   "cell_type": "code",
   "execution_count": 39,
   "id": "d1aead8b",
   "metadata": {},
   "outputs": [
    {
     "data": {
      "text/plain": [
       "0     90000.0\n",
       "1     65000.0\n",
       "2    150000.0\n",
       "3     60000.0\n",
       "4    200000.0\n",
       "Name: Salary, dtype: float64"
      ]
     },
     "execution_count": 39,
     "metadata": {},
     "output_type": "execute_result"
    }
   ],
   "source": [
    "y.head()"
   ]
  },
  {
   "cell_type": "markdown",
   "id": "6fc63083",
   "metadata": {},
   "source": [
    "# Splitting the data into Training and Testing"
   ]
  },
  {
   "cell_type": "code",
   "execution_count": 40,
   "id": "c3ed30d0",
   "metadata": {},
   "outputs": [
    {
     "data": {
      "text/html": [
       "<div>\n",
       "<style scoped>\n",
       "    .dataframe tbody tr th:only-of-type {\n",
       "        vertical-align: middle;\n",
       "    }\n",
       "\n",
       "    .dataframe tbody tr th {\n",
       "        vertical-align: top;\n",
       "    }\n",
       "\n",
       "    .dataframe thead th {\n",
       "        text-align: right;\n",
       "    }\n",
       "</style>\n",
       "<table border=\"1\" class=\"dataframe\">\n",
       "  <thead>\n",
       "    <tr style=\"text-align: right;\">\n",
       "      <th></th>\n",
       "      <th>Age_scaled</th>\n",
       "      <th>Gender_Encode</th>\n",
       "      <th>Education_Level_Encode</th>\n",
       "      <th>Job_Title_Encode</th>\n",
       "      <th>Location_Encode</th>\n",
       "      <th>Experience_years_scaled</th>\n",
       "    </tr>\n",
       "  </thead>\n",
       "  <tbody>\n",
       "    <tr>\n",
       "      <th>73</th>\n",
       "      <td>-1.307742</td>\n",
       "      <td>1</td>\n",
       "      <td>0</td>\n",
       "      <td>166</td>\n",
       "      <td>0</td>\n",
       "      <td>-1.213615</td>\n",
       "    </tr>\n",
       "    <tr>\n",
       "      <th>182</th>\n",
       "      <td>0.922302</td>\n",
       "      <td>0</td>\n",
       "      <td>2</td>\n",
       "      <td>155</td>\n",
       "      <td>0</td>\n",
       "      <td>0.744158</td>\n",
       "    </tr>\n",
       "    <tr>\n",
       "      <th>17</th>\n",
       "      <td>0.225413</td>\n",
       "      <td>1</td>\n",
       "      <td>2</td>\n",
       "      <td>116</td>\n",
       "      <td>0</td>\n",
       "      <td>0.292364</td>\n",
       "    </tr>\n",
       "    <tr>\n",
       "      <th>24</th>\n",
       "      <td>0.504169</td>\n",
       "      <td>1</td>\n",
       "      <td>1</td>\n",
       "      <td>37</td>\n",
       "      <td>0</td>\n",
       "      <td>0.442962</td>\n",
       "    </tr>\n",
       "    <tr>\n",
       "      <th>146</th>\n",
       "      <td>0.643547</td>\n",
       "      <td>0</td>\n",
       "      <td>2</td>\n",
       "      <td>115</td>\n",
       "      <td>0</td>\n",
       "      <td>0.894756</td>\n",
       "    </tr>\n",
       "  </tbody>\n",
       "</table>\n",
       "</div>"
      ],
      "text/plain": [
       "     Age_scaled  Gender_Encode  Education_Level_Encode  Job_Title_Encode  \\\n",
       "73    -1.307742              1                       0               166   \n",
       "182    0.922302              0                       2               155   \n",
       "17     0.225413              1                       2               116   \n",
       "24     0.504169              1                       1                37   \n",
       "146    0.643547              0                       2               115   \n",
       "\n",
       "     Location_Encode  Experience_years_scaled  \n",
       "73                 0                -1.213615  \n",
       "182                0                 0.744158  \n",
       "17                 0                 0.292364  \n",
       "24                 0                 0.442962  \n",
       "146                0                 0.894756  "
      ]
     },
     "execution_count": 40,
     "metadata": {},
     "output_type": "execute_result"
    }
   ],
   "source": [
    "from sklearn.model_selection import train_test_split\n",
    "x_train,x_test,y_train,y_test=train_test_split(x,y,test_size=0.2,random_state=42)\n",
    "x_train.head()"
   ]
  },
  {
   "cell_type": "code",
   "execution_count": 41,
   "id": "e7d4c615",
   "metadata": {},
   "outputs": [
    {
     "name": "stdout",
     "output_type": "stream",
     "text": [
      "(259, 6)\n",
      "(259,)\n",
      "(65, 6)\n",
      "(65, 6)\n"
     ]
    }
   ],
   "source": [
    "print(x_train.shape)\n",
    "print(y_train.shape)\n",
    "print(x_test.shape)\n",
    "print(x_test.shape)"
   ]
  },
  {
   "cell_type": "markdown",
   "id": "0634b286",
   "metadata": {},
   "source": [
    "# Model development"
   ]
  },
  {
   "cell_type": "markdown",
   "id": "45f76c6c",
   "metadata": {},
   "source": [
    "# Model Training"
   ]
  },
  {
   "cell_type": "markdown",
   "id": "83a650a1",
   "metadata": {},
   "source": [
    "# Linear Regression"
   ]
  },
  {
   "cell_type": "code",
   "execution_count": 42,
   "id": "12281edd",
   "metadata": {},
   "outputs": [
    {
     "data": {
      "text/html": [
       "<style>#sk-container-id-1 {color: black;background-color: white;}#sk-container-id-1 pre{padding: 0;}#sk-container-id-1 div.sk-toggleable {background-color: white;}#sk-container-id-1 label.sk-toggleable__label {cursor: pointer;display: block;width: 100%;margin-bottom: 0;padding: 0.3em;box-sizing: border-box;text-align: center;}#sk-container-id-1 label.sk-toggleable__label-arrow:before {content: \"▸\";float: left;margin-right: 0.25em;color: #696969;}#sk-container-id-1 label.sk-toggleable__label-arrow:hover:before {color: black;}#sk-container-id-1 div.sk-estimator:hover label.sk-toggleable__label-arrow:before {color: black;}#sk-container-id-1 div.sk-toggleable__content {max-height: 0;max-width: 0;overflow: hidden;text-align: left;background-color: #f0f8ff;}#sk-container-id-1 div.sk-toggleable__content pre {margin: 0.2em;color: black;border-radius: 0.25em;background-color: #f0f8ff;}#sk-container-id-1 input.sk-toggleable__control:checked~div.sk-toggleable__content {max-height: 200px;max-width: 100%;overflow: auto;}#sk-container-id-1 input.sk-toggleable__control:checked~label.sk-toggleable__label-arrow:before {content: \"▾\";}#sk-container-id-1 div.sk-estimator input.sk-toggleable__control:checked~label.sk-toggleable__label {background-color: #d4ebff;}#sk-container-id-1 div.sk-label input.sk-toggleable__control:checked~label.sk-toggleable__label {background-color: #d4ebff;}#sk-container-id-1 input.sk-hidden--visually {border: 0;clip: rect(1px 1px 1px 1px);clip: rect(1px, 1px, 1px, 1px);height: 1px;margin: -1px;overflow: hidden;padding: 0;position: absolute;width: 1px;}#sk-container-id-1 div.sk-estimator {font-family: monospace;background-color: #f0f8ff;border: 1px dotted black;border-radius: 0.25em;box-sizing: border-box;margin-bottom: 0.5em;}#sk-container-id-1 div.sk-estimator:hover {background-color: #d4ebff;}#sk-container-id-1 div.sk-parallel-item::after {content: \"\";width: 100%;border-bottom: 1px solid gray;flex-grow: 1;}#sk-container-id-1 div.sk-label:hover label.sk-toggleable__label {background-color: #d4ebff;}#sk-container-id-1 div.sk-serial::before {content: \"\";position: absolute;border-left: 1px solid gray;box-sizing: border-box;top: 0;bottom: 0;left: 50%;z-index: 0;}#sk-container-id-1 div.sk-serial {display: flex;flex-direction: column;align-items: center;background-color: white;padding-right: 0.2em;padding-left: 0.2em;position: relative;}#sk-container-id-1 div.sk-item {position: relative;z-index: 1;}#sk-container-id-1 div.sk-parallel {display: flex;align-items: stretch;justify-content: center;background-color: white;position: relative;}#sk-container-id-1 div.sk-item::before, #sk-container-id-1 div.sk-parallel-item::before {content: \"\";position: absolute;border-left: 1px solid gray;box-sizing: border-box;top: 0;bottom: 0;left: 50%;z-index: -1;}#sk-container-id-1 div.sk-parallel-item {display: flex;flex-direction: column;z-index: 1;position: relative;background-color: white;}#sk-container-id-1 div.sk-parallel-item:first-child::after {align-self: flex-end;width: 50%;}#sk-container-id-1 div.sk-parallel-item:last-child::after {align-self: flex-start;width: 50%;}#sk-container-id-1 div.sk-parallel-item:only-child::after {width: 0;}#sk-container-id-1 div.sk-dashed-wrapped {border: 1px dashed gray;margin: 0 0.4em 0.5em 0.4em;box-sizing: border-box;padding-bottom: 0.4em;background-color: white;}#sk-container-id-1 div.sk-label label {font-family: monospace;font-weight: bold;display: inline-block;line-height: 1.2em;}#sk-container-id-1 div.sk-label-container {text-align: center;}#sk-container-id-1 div.sk-container {/* jupyter's `normalize.less` sets `[hidden] { display: none; }` but bootstrap.min.css set `[hidden] { display: none !important; }` so we also need the `!important` here to be able to override the default hidden behavior on the sphinx rendered scikit-learn.org. See: https://github.com/scikit-learn/scikit-learn/issues/21755 */display: inline-block !important;position: relative;}#sk-container-id-1 div.sk-text-repr-fallback {display: none;}</style><div id=\"sk-container-id-1\" class=\"sk-top-container\"><div class=\"sk-text-repr-fallback\"><pre>LinearRegression()</pre><b>In a Jupyter environment, please rerun this cell to show the HTML representation or trust the notebook. <br />On GitHub, the HTML representation is unable to render, please try loading this page with nbviewer.org.</b></div><div class=\"sk-container\" hidden><div class=\"sk-item\"><div class=\"sk-estimator sk-toggleable\"><input class=\"sk-toggleable__control sk-hidden--visually\" id=\"sk-estimator-id-1\" type=\"checkbox\" checked><label for=\"sk-estimator-id-1\" class=\"sk-toggleable__label sk-toggleable__label-arrow\">LinearRegression</label><div class=\"sk-toggleable__content\"><pre>LinearRegression()</pre></div></div></div></div></div>"
      ],
      "text/plain": [
       "LinearRegression()"
      ]
     },
     "execution_count": 42,
     "metadata": {},
     "output_type": "execute_result"
    }
   ],
   "source": [
    "from sklearn.linear_model import LinearRegression\n",
    "LR= LinearRegression()\n",
    "LR.fit(x_train,y_train)"
   ]
  },
  {
   "cell_type": "markdown",
   "id": "cd5bf69e",
   "metadata": {},
   "source": [
    "# Model Predictions"
   ]
  },
  {
   "cell_type": "code",
   "execution_count": 43,
   "id": "95c7981a",
   "metadata": {},
   "outputs": [
    {
     "name": "stdout",
     "output_type": "stream",
     "text": [
      "[117415.91344602 125562.80742758  48965.15386167 128739.34887988\n",
      " 106828.49930535  99654.76748821  49101.27883652  57130.71108104\n",
      " 166333.69009266  43112.61060113  40544.18249367 122553.217185\n",
      " 107631.15450848 155580.48335296  83652.23602446 170890.28450907\n",
      "  98984.50106226 109338.33008328  42267.86835535  48089.87647812\n",
      "  75674.93528581  64499.29874156  63619.2494321   31543.41552147\n",
      " 188376.92844437  90340.76921722 155285.91529198 160863.57809872\n",
      " 185183.73163709  34741.26224478 124850.6230462  165106.94121635\n",
      "  87085.00622186 155425.69514031 149190.25441885  45729.74800187\n",
      "  88475.39474629  92025.62668073  97997.32557607  40411.112659\n",
      "  89995.79796521  53873.21977084 108677.48549927  54590.96778663\n",
      "  36497.92729223  48611.85493217 129193.72126941  43102.58902589\n",
      " 162383.16672117  81874.95829259 157771.0301154   43984.89040816\n",
      "  59950.21740617  94023.81456492  84929.3880918   60296.00325465\n",
      "  91816.87952546  56177.1258728   75243.32853162 104701.69952733\n",
      " 117279.78847117  83396.82187583 177743.76102871  72275.14427419\n",
      "  86307.61361918]\n"
     ]
    }
   ],
   "source": [
    "y_pred=LR.predict(x_test)\n",
    "print(y_pred)"
   ]
  },
  {
   "cell_type": "code",
   "execution_count": 44,
   "id": "47086802",
   "metadata": {},
   "outputs": [
    {
     "data": {
      "text/plain": [
       "0.8948422167138826"
      ]
     },
     "execution_count": 44,
     "metadata": {},
     "output_type": "execute_result"
    }
   ],
   "source": [
    "LR.score(x_train,y_train)"
   ]
  },
  {
   "cell_type": "code",
   "execution_count": 45,
   "id": "6f5f4ff2",
   "metadata": {},
   "outputs": [
    {
     "data": {
      "text/html": [
       "<div>\n",
       "<style scoped>\n",
       "    .dataframe tbody tr th:only-of-type {\n",
       "        vertical-align: middle;\n",
       "    }\n",
       "\n",
       "    .dataframe tbody tr th {\n",
       "        vertical-align: top;\n",
       "    }\n",
       "\n",
       "    .dataframe thead th {\n",
       "        text-align: right;\n",
       "    }\n",
       "</style>\n",
       "<table border=\"1\" class=\"dataframe\">\n",
       "  <thead>\n",
       "    <tr style=\"text-align: right;\">\n",
       "      <th></th>\n",
       "      <th>Age_scaled</th>\n",
       "      <th>Gender_Encode</th>\n",
       "      <th>Education_Level_Encode</th>\n",
       "      <th>Job_Title_Encode</th>\n",
       "      <th>Location_Encode</th>\n",
       "      <th>Experience_years_scaled</th>\n",
       "      <th>Actual Salary</th>\n",
       "      <th>Predicted Salary</th>\n",
       "    </tr>\n",
       "  </thead>\n",
       "  <tbody>\n",
       "    <tr>\n",
       "      <th>132</th>\n",
       "      <td>0.364791</td>\n",
       "      <td>0</td>\n",
       "      <td>1</td>\n",
       "      <td>154</td>\n",
       "      <td>0</td>\n",
       "      <td>0.292364</td>\n",
       "      <td>100000.0</td>\n",
       "      <td>117415.913446</td>\n",
       "    </tr>\n",
       "    <tr>\n",
       "      <th>108</th>\n",
       "      <td>0.504169</td>\n",
       "      <td>0</td>\n",
       "      <td>1</td>\n",
       "      <td>131</td>\n",
       "      <td>0</td>\n",
       "      <td>0.593560</td>\n",
       "      <td>100000.0</td>\n",
       "      <td>125562.807428</td>\n",
       "    </tr>\n",
       "    <tr>\n",
       "      <th>137</th>\n",
       "      <td>-1.028986</td>\n",
       "      <td>0</td>\n",
       "      <td>0</td>\n",
       "      <td>64</td>\n",
       "      <td>0</td>\n",
       "      <td>-0.912419</td>\n",
       "      <td>50000.0</td>\n",
       "      <td>48965.153862</td>\n",
       "    </tr>\n",
       "    <tr>\n",
       "      <th>9</th>\n",
       "      <td>0.086036</td>\n",
       "      <td>1</td>\n",
       "      <td>2</td>\n",
       "      <td>150</td>\n",
       "      <td>0</td>\n",
       "      <td>-0.008831</td>\n",
       "      <td>110000.0</td>\n",
       "      <td>128739.348880</td>\n",
       "    </tr>\n",
       "    <tr>\n",
       "      <th>181</th>\n",
       "      <td>-0.053342</td>\n",
       "      <td>1</td>\n",
       "      <td>1</td>\n",
       "      <td>110</td>\n",
       "      <td>0</td>\n",
       "      <td>-0.159429</td>\n",
       "      <td>105000.0</td>\n",
       "      <td>106828.499305</td>\n",
       "    </tr>\n",
       "    <tr>\n",
       "      <th>...</th>\n",
       "      <td>...</td>\n",
       "      <td>...</td>\n",
       "      <td>...</td>\n",
       "      <td>...</td>\n",
       "      <td>...</td>\n",
       "      <td>...</td>\n",
       "      <td>...</td>\n",
       "      <td>...</td>\n",
       "    </tr>\n",
       "    <tr>\n",
       "      <th>104</th>\n",
       "      <td>0.225413</td>\n",
       "      <td>0</td>\n",
       "      <td>1</td>\n",
       "      <td>143</td>\n",
       "      <td>0</td>\n",
       "      <td>0.442962</td>\n",
       "      <td>80000.0</td>\n",
       "      <td>117279.788471</td>\n",
       "    </tr>\n",
       "    <tr>\n",
       "      <th>233</th>\n",
       "      <td>-0.332098</td>\n",
       "      <td>1</td>\n",
       "      <td>0</td>\n",
       "      <td>136</td>\n",
       "      <td>0</td>\n",
       "      <td>-0.310027</td>\n",
       "      <td>85000.0</td>\n",
       "      <td>83396.821876</td>\n",
       "    </tr>\n",
       "    <tr>\n",
       "      <th>60</th>\n",
       "      <td>1.897946</td>\n",
       "      <td>0</td>\n",
       "      <td>1</td>\n",
       "      <td>30</td>\n",
       "      <td>0</td>\n",
       "      <td>1.948941</td>\n",
       "      <td>170000.0</td>\n",
       "      <td>177743.761029</td>\n",
       "    </tr>\n",
       "    <tr>\n",
       "      <th>94</th>\n",
       "      <td>-0.610853</td>\n",
       "      <td>1</td>\n",
       "      <td>0</td>\n",
       "      <td>3</td>\n",
       "      <td>0</td>\n",
       "      <td>-0.460625</td>\n",
       "      <td>75000.0</td>\n",
       "      <td>72275.144274</td>\n",
       "    </tr>\n",
       "    <tr>\n",
       "      <th>278</th>\n",
       "      <td>-0.192720</td>\n",
       "      <td>1</td>\n",
       "      <td>0</td>\n",
       "      <td>141</td>\n",
       "      <td>0</td>\n",
       "      <td>-0.310027</td>\n",
       "      <td>95000.0</td>\n",
       "      <td>86307.613619</td>\n",
       "    </tr>\n",
       "  </tbody>\n",
       "</table>\n",
       "<p>65 rows × 8 columns</p>\n",
       "</div>"
      ],
      "text/plain": [
       "     Age_scaled  Gender_Encode  Education_Level_Encode  Job_Title_Encode  \\\n",
       "132    0.364791              0                       1               154   \n",
       "108    0.504169              0                       1               131   \n",
       "137   -1.028986              0                       0                64   \n",
       "9      0.086036              1                       2               150   \n",
       "181   -0.053342              1                       1               110   \n",
       "..          ...            ...                     ...               ...   \n",
       "104    0.225413              0                       1               143   \n",
       "233   -0.332098              1                       0               136   \n",
       "60     1.897946              0                       1                30   \n",
       "94    -0.610853              1                       0                 3   \n",
       "278   -0.192720              1                       0               141   \n",
       "\n",
       "     Location_Encode  Experience_years_scaled  Actual Salary  Predicted Salary  \n",
       "132                0                 0.292364       100000.0     117415.913446  \n",
       "108                0                 0.593560       100000.0     125562.807428  \n",
       "137                0                -0.912419        50000.0      48965.153862  \n",
       "9                  0                -0.008831       110000.0     128739.348880  \n",
       "181                0                -0.159429       105000.0     106828.499305  \n",
       "..               ...                      ...            ...               ...  \n",
       "104                0                 0.442962        80000.0     117279.788471  \n",
       "233                0                -0.310027        85000.0      83396.821876  \n",
       "60                 0                 1.948941       170000.0     177743.761029  \n",
       "94                 0                -0.460625        75000.0      72275.144274  \n",
       "278                0                -0.310027        95000.0      86307.613619  \n",
       "\n",
       "[65 rows x 8 columns]"
      ]
     },
     "execution_count": 45,
     "metadata": {},
     "output_type": "execute_result"
    }
   ],
   "source": [
    "df1=pd.DataFrame()\n",
    "df1=x_test\n",
    "df1['Actual Salary']=y_test\n",
    "df1['Predicted Salary']=y_pred\n",
    "df1"
   ]
  },
  {
   "cell_type": "code",
   "execution_count": 46,
   "id": "e25737a0",
   "metadata": {},
   "outputs": [
    {
     "data": {
      "text/html": [
       "<div>\n",
       "<style scoped>\n",
       "    .dataframe tbody tr th:only-of-type {\n",
       "        vertical-align: middle;\n",
       "    }\n",
       "\n",
       "    .dataframe tbody tr th {\n",
       "        vertical-align: top;\n",
       "    }\n",
       "\n",
       "    .dataframe thead th {\n",
       "        text-align: right;\n",
       "    }\n",
       "</style>\n",
       "<table border=\"1\" class=\"dataframe\">\n",
       "  <thead>\n",
       "    <tr style=\"text-align: right;\">\n",
       "      <th></th>\n",
       "      <th>y_Actual_salary</th>\n",
       "      <th>y_predicted_salary</th>\n",
       "      <th>Error</th>\n",
       "      <th>abs_error</th>\n",
       "    </tr>\n",
       "  </thead>\n",
       "  <tbody>\n",
       "    <tr>\n",
       "      <th>132</th>\n",
       "      <td>100000.0</td>\n",
       "      <td>117415.913446</td>\n",
       "      <td>-17415.913446</td>\n",
       "      <td>17415.913446</td>\n",
       "    </tr>\n",
       "    <tr>\n",
       "      <th>108</th>\n",
       "      <td>100000.0</td>\n",
       "      <td>125562.807428</td>\n",
       "      <td>-25562.807428</td>\n",
       "      <td>25562.807428</td>\n",
       "    </tr>\n",
       "    <tr>\n",
       "      <th>137</th>\n",
       "      <td>50000.0</td>\n",
       "      <td>48965.153862</td>\n",
       "      <td>1034.846138</td>\n",
       "      <td>1034.846138</td>\n",
       "    </tr>\n",
       "    <tr>\n",
       "      <th>9</th>\n",
       "      <td>110000.0</td>\n",
       "      <td>128739.348880</td>\n",
       "      <td>-18739.348880</td>\n",
       "      <td>18739.348880</td>\n",
       "    </tr>\n",
       "    <tr>\n",
       "      <th>181</th>\n",
       "      <td>105000.0</td>\n",
       "      <td>106828.499305</td>\n",
       "      <td>-1828.499305</td>\n",
       "      <td>1828.499305</td>\n",
       "    </tr>\n",
       "    <tr>\n",
       "      <th>...</th>\n",
       "      <td>...</td>\n",
       "      <td>...</td>\n",
       "      <td>...</td>\n",
       "      <td>...</td>\n",
       "    </tr>\n",
       "    <tr>\n",
       "      <th>104</th>\n",
       "      <td>80000.0</td>\n",
       "      <td>117279.788471</td>\n",
       "      <td>-37279.788471</td>\n",
       "      <td>37279.788471</td>\n",
       "    </tr>\n",
       "    <tr>\n",
       "      <th>233</th>\n",
       "      <td>85000.0</td>\n",
       "      <td>83396.821876</td>\n",
       "      <td>1603.178124</td>\n",
       "      <td>1603.178124</td>\n",
       "    </tr>\n",
       "    <tr>\n",
       "      <th>60</th>\n",
       "      <td>170000.0</td>\n",
       "      <td>177743.761029</td>\n",
       "      <td>-7743.761029</td>\n",
       "      <td>7743.761029</td>\n",
       "    </tr>\n",
       "    <tr>\n",
       "      <th>94</th>\n",
       "      <td>75000.0</td>\n",
       "      <td>72275.144274</td>\n",
       "      <td>2724.855726</td>\n",
       "      <td>2724.855726</td>\n",
       "    </tr>\n",
       "    <tr>\n",
       "      <th>278</th>\n",
       "      <td>95000.0</td>\n",
       "      <td>86307.613619</td>\n",
       "      <td>8692.386381</td>\n",
       "      <td>8692.386381</td>\n",
       "    </tr>\n",
       "  </tbody>\n",
       "</table>\n",
       "<p>65 rows × 4 columns</p>\n",
       "</div>"
      ],
      "text/plain": [
       "     y_Actual_salary  y_predicted_salary         Error     abs_error\n",
       "132         100000.0       117415.913446 -17415.913446  17415.913446\n",
       "108         100000.0       125562.807428 -25562.807428  25562.807428\n",
       "137          50000.0        48965.153862   1034.846138   1034.846138\n",
       "9           110000.0       128739.348880 -18739.348880  18739.348880\n",
       "181         105000.0       106828.499305  -1828.499305   1828.499305\n",
       "..               ...                 ...           ...           ...\n",
       "104          80000.0       117279.788471 -37279.788471  37279.788471\n",
       "233          85000.0        83396.821876   1603.178124   1603.178124\n",
       "60          170000.0       177743.761029  -7743.761029   7743.761029\n",
       "94           75000.0        72275.144274   2724.855726   2724.855726\n",
       "278          95000.0        86307.613619   8692.386381   8692.386381\n",
       "\n",
       "[65 rows x 4 columns]"
      ]
     },
     "execution_count": 46,
     "metadata": {},
     "output_type": "execute_result"
    }
   ],
   "source": [
    "df=pd.DataFrame({'y_Actual_salary':y_test,'y_predicted_salary':y_pred})\n",
    "df['Error']=df['y_Actual_salary']-df['y_predicted_salary']\n",
    "df['abs_error']=abs(df['Error'])\n",
    "df"
   ]
  },
  {
   "cell_type": "code",
   "execution_count": 47,
   "id": "952aa594",
   "metadata": {},
   "outputs": [
    {
     "data": {
      "text/plain": [
       "10570.786401136163"
      ]
     },
     "execution_count": 47,
     "metadata": {},
     "output_type": "execute_result"
    }
   ],
   "source": [
    "Mean_absolute_Error=df['abs_error'].mean()\n",
    "Mean_absolute_Error"
   ]
  },
  {
   "cell_type": "markdown",
   "id": "71e718d2",
   "metadata": {},
   "source": [
    "# Model Evaluation:"
   ]
  },
  {
   "cell_type": "code",
   "execution_count": 48,
   "id": "8ef521d5",
   "metadata": {},
   "outputs": [],
   "source": [
    "from sklearn.metrics import accuracy_score,r2_score\n",
    "from sklearn.metrics import mean_squared_error,mean_absolute_error"
   ]
  },
  {
   "cell_type": "markdown",
   "id": "90ca97a4",
   "metadata": {},
   "source": [
    "# Model Accuracy:"
   ]
  },
  {
   "cell_type": "code",
   "execution_count": 49,
   "id": "cb164a56",
   "metadata": {},
   "outputs": [
    {
     "data": {
      "text/plain": [
       "0.8911231066517091"
      ]
     },
     "execution_count": 49,
     "metadata": {},
     "output_type": "execute_result"
    }
   ],
   "source": [
    "r2_score(y_test,y_pred)"
   ]
  },
  {
   "cell_type": "code",
   "execution_count": 50,
   "id": "5424ac62",
   "metadata": {},
   "outputs": [
    {
     "name": "stdout",
     "output_type": "stream",
     "text": [
      "Accuracy of model = 89.11%\n"
     ]
    }
   ],
   "source": [
    "print(f'Accuracy of model = {round(r2_score(y_test,y_pred),4)*100}%')"
   ]
  },
  {
   "cell_type": "markdown",
   "id": "51757640",
   "metadata": {},
   "source": [
    "# Mean Absolute Error:"
   ]
  },
  {
   "cell_type": "code",
   "execution_count": 51,
   "id": "e7bce70d",
   "metadata": {},
   "outputs": [
    {
     "data": {
      "text/plain": [
       "10570.79"
      ]
     },
     "execution_count": 51,
     "metadata": {},
     "output_type": "execute_result"
    }
   ],
   "source": [
    "round(mean_absolute_error(y_test,y_pred),2)"
   ]
  },
  {
   "cell_type": "code",
   "execution_count": 52,
   "id": "82db2e24",
   "metadata": {},
   "outputs": [
    {
     "name": "stdout",
     "output_type": "stream",
     "text": [
      "Mean Absolute Error= 10570.79\n"
     ]
    }
   ],
   "source": [
    "print(f\"Mean Absolute Error= {round(mean_absolute_error(y_test,y_pred),2)}\")"
   ]
  },
  {
   "cell_type": "markdown",
   "id": "f0fd2983",
   "metadata": {},
   "source": [
    "# Mean Squared Error"
   ]
  },
  {
   "cell_type": "code",
   "execution_count": 53,
   "id": "0823a870",
   "metadata": {},
   "outputs": [
    {
     "data": {
      "text/plain": [
       "205754135.72"
      ]
     },
     "execution_count": 53,
     "metadata": {},
     "output_type": "execute_result"
    }
   ],
   "source": [
    "mse=round(mean_squared_error(y_test,y_pred),2)\n",
    "mse"
   ]
  },
  {
   "cell_type": "code",
   "execution_count": 54,
   "id": "83e5ee4f",
   "metadata": {},
   "outputs": [
    {
     "name": "stdout",
     "output_type": "stream",
     "text": [
      "Mean Squared Error= 205754135.72\n"
     ]
    }
   ],
   "source": [
    "print(f\"Mean Squared Error= {round(mean_squared_error(y_test,y_pred),2)}\")"
   ]
  },
  {
   "cell_type": "markdown",
   "id": "8c4d9ffd",
   "metadata": {},
   "source": [
    "# Root Mean Squared Error:"
   ]
  },
  {
   "cell_type": "code",
   "execution_count": 55,
   "id": "c0e5521c",
   "metadata": {},
   "outputs": [
    {
     "name": "stdout",
     "output_type": "stream",
     "text": [
      "Root Mean Squared Error(RMSE)= 14344.132449193294\n"
     ]
    }
   ],
   "source": [
    "print('Root Mean Squared Error(RMSE)=',mse**(0.5))"
   ]
  },
  {
   "cell_type": "markdown",
   "id": "8a4faf79",
   "metadata": {},
   "source": [
    "# Cofficients:"
   ]
  },
  {
   "cell_type": "code",
   "execution_count": 56,
   "id": "bc89fe9a",
   "metadata": {},
   "outputs": [
    {
     "data": {
      "text/plain": [
       "array([2.01818940e+04, 7.38907834e+03, 1.54227359e+04, 1.95769562e+01,\n",
       "       0.00000000e+00, 1.92043082e+04])"
      ]
     },
     "execution_count": 56,
     "metadata": {},
     "output_type": "execute_result"
    }
   ],
   "source": [
    "LR.coef_"
   ]
  },
  {
   "cell_type": "markdown",
   "id": "38427c03",
   "metadata": {},
   "source": [
    "# Intercepts:"
   ]
  },
  {
   "cell_type": "code",
   "execution_count": 57,
   "id": "46b1dca5",
   "metadata": {},
   "outputs": [
    {
     "data": {
      "text/plain": [
       "86001.49320553186"
      ]
     },
     "execution_count": 57,
     "metadata": {},
     "output_type": "execute_result"
    }
   ],
   "source": [
    "LR.intercept_"
   ]
  },
  {
   "cell_type": "markdown",
   "id": "b33853c6",
   "metadata": {},
   "source": [
    "# Customise Predictions:"
   ]
  },
  {
   "cell_type": "code",
   "execution_count": 58,
   "id": "12a2fd29",
   "metadata": {},
   "outputs": [
    {
     "data": {
      "text/html": [
       "<div>\n",
       "<style scoped>\n",
       "    .dataframe tbody tr th:only-of-type {\n",
       "        vertical-align: middle;\n",
       "    }\n",
       "\n",
       "    .dataframe tbody tr th {\n",
       "        vertical-align: top;\n",
       "    }\n",
       "\n",
       "    .dataframe thead th {\n",
       "        text-align: right;\n",
       "    }\n",
       "</style>\n",
       "<table border=\"1\" class=\"dataframe\">\n",
       "  <thead>\n",
       "    <tr style=\"text-align: right;\">\n",
       "      <th></th>\n",
       "      <th>Age_scaled</th>\n",
       "      <th>Gender_Encode</th>\n",
       "      <th>Education_Level_Encode</th>\n",
       "      <th>Job_Title_Encode</th>\n",
       "      <th>Location_Encode</th>\n",
       "      <th>Experience_years_scaled</th>\n",
       "      <th>Actual Salary</th>\n",
       "      <th>Predicted Salary</th>\n",
       "    </tr>\n",
       "  </thead>\n",
       "  <tbody>\n",
       "    <tr>\n",
       "      <th>132</th>\n",
       "      <td>0.364791</td>\n",
       "      <td>0</td>\n",
       "      <td>1</td>\n",
       "      <td>154</td>\n",
       "      <td>0</td>\n",
       "      <td>0.292364</td>\n",
       "      <td>100000.0</td>\n",
       "      <td>117415.913446</td>\n",
       "    </tr>\n",
       "    <tr>\n",
       "      <th>108</th>\n",
       "      <td>0.504169</td>\n",
       "      <td>0</td>\n",
       "      <td>1</td>\n",
       "      <td>131</td>\n",
       "      <td>0</td>\n",
       "      <td>0.593560</td>\n",
       "      <td>100000.0</td>\n",
       "      <td>125562.807428</td>\n",
       "    </tr>\n",
       "    <tr>\n",
       "      <th>137</th>\n",
       "      <td>-1.028986</td>\n",
       "      <td>0</td>\n",
       "      <td>0</td>\n",
       "      <td>64</td>\n",
       "      <td>0</td>\n",
       "      <td>-0.912419</td>\n",
       "      <td>50000.0</td>\n",
       "      <td>48965.153862</td>\n",
       "    </tr>\n",
       "    <tr>\n",
       "      <th>9</th>\n",
       "      <td>0.086036</td>\n",
       "      <td>1</td>\n",
       "      <td>2</td>\n",
       "      <td>150</td>\n",
       "      <td>0</td>\n",
       "      <td>-0.008831</td>\n",
       "      <td>110000.0</td>\n",
       "      <td>128739.348880</td>\n",
       "    </tr>\n",
       "    <tr>\n",
       "      <th>181</th>\n",
       "      <td>-0.053342</td>\n",
       "      <td>1</td>\n",
       "      <td>1</td>\n",
       "      <td>110</td>\n",
       "      <td>0</td>\n",
       "      <td>-0.159429</td>\n",
       "      <td>105000.0</td>\n",
       "      <td>106828.499305</td>\n",
       "    </tr>\n",
       "  </tbody>\n",
       "</table>\n",
       "</div>"
      ],
      "text/plain": [
       "     Age_scaled  Gender_Encode  Education_Level_Encode  Job_Title_Encode  \\\n",
       "132    0.364791              0                       1               154   \n",
       "108    0.504169              0                       1               131   \n",
       "137   -1.028986              0                       0                64   \n",
       "9      0.086036              1                       2               150   \n",
       "181   -0.053342              1                       1               110   \n",
       "\n",
       "     Location_Encode  Experience_years_scaled  Actual Salary  Predicted Salary  \n",
       "132                0                 0.292364       100000.0     117415.913446  \n",
       "108                0                 0.593560       100000.0     125562.807428  \n",
       "137                0                -0.912419        50000.0      48965.153862  \n",
       "9                  0                -0.008831       110000.0     128739.348880  \n",
       "181                0                -0.159429       105000.0     106828.499305  "
      ]
     },
     "execution_count": 58,
     "metadata": {},
     "output_type": "execute_result"
    }
   ],
   "source": [
    "df1.head()"
   ]
  },
  {
   "cell_type": "code",
   "execution_count": 59,
   "id": "f66904d5",
   "metadata": {},
   "outputs": [
    {
     "name": "stderr",
     "output_type": "stream",
     "text": [
      "C:\\Users\\reena\\AppData\\Local\\anaconda3\\lib\\site-packages\\sklearn\\base.py:420: UserWarning: X does not have valid feature names, but StandardScaler was fitted with feature names\n",
      "  warnings.warn(\n",
      "C:\\Users\\reena\\AppData\\Local\\anaconda3\\lib\\site-packages\\sklearn\\base.py:420: UserWarning: X does not have valid feature names, but StandardScaler was fitted with feature names\n",
      "  warnings.warn(\n"
     ]
    }
   ],
   "source": [
    "Age1=std_scaler.transform([[52]])\n",
    "Age=2.037324\n",
    "Gender=1\n",
    "Education_Level=1\n",
    "Job_Title=1\n",
    "Experience_years=std_scaler.transform([[20]])\n",
    "Experience_years=1.497148\n",
    "Location=0"
   ]
  },
  {
   "cell_type": "code",
   "execution_count": 60,
   "id": "4e1643f7",
   "metadata": {},
   "outputs": [
    {
     "name": "stderr",
     "output_type": "stream",
     "text": [
      "C:\\Users\\reena\\AppData\\Local\\anaconda3\\lib\\site-packages\\sklearn\\base.py:420: UserWarning: X does not have valid feature names, but StandardScaler was fitted with feature names\n",
      "  warnings.warn(\n"
     ]
    },
    {
     "data": {
      "text/plain": [
       "array([[1.49714765]])"
      ]
     },
     "execution_count": 60,
     "metadata": {},
     "output_type": "execute_result"
    }
   ],
   "source": [
    "std_scaler.transform([[20]])"
   ]
  },
  {
   "cell_type": "code",
   "execution_count": 61,
   "id": "65c26758",
   "metadata": {},
   "outputs": [
    {
     "name": "stderr",
     "output_type": "stream",
     "text": [
      "C:\\Users\\reena\\AppData\\Local\\anaconda3\\lib\\site-packages\\sklearn\\base.py:420: UserWarning: X does not have valid feature names, but LinearRegression was fitted with feature names\n",
      "  warnings.warn(\n"
     ]
    },
    {
     "data": {
      "text/plain": [
       "array([149949.94130192])"
      ]
     },
     "execution_count": 61,
     "metadata": {},
     "output_type": "execute_result"
    }
   ],
   "source": [
    "Emp_Salary=LR.predict([[Age,Gender,Education_Level,Job_Title,Experience_years,Location]])\n",
    "Emp_Salary"
   ]
  },
  {
   "cell_type": "code",
   "execution_count": 62,
   "id": "a793ba1e",
   "metadata": {},
   "outputs": [
    {
     "name": "stdout",
     "output_type": "stream",
     "text": [
      "salary of Employee with above Attributes= 149949.941301921\n"
     ]
    }
   ],
   "source": [
    "print(\"salary of Employee with above Attributes=\",Emp_Salary[0])"
   ]
  },
  {
   "cell_type": "code",
   "execution_count": 63,
   "id": "dd68a8d8",
   "metadata": {},
   "outputs": [
    {
     "data": {
      "text/html": [
       "<div>\n",
       "<style scoped>\n",
       "    .dataframe tbody tr th:only-of-type {\n",
       "        vertical-align: middle;\n",
       "    }\n",
       "\n",
       "    .dataframe tbody tr th {\n",
       "        vertical-align: top;\n",
       "    }\n",
       "\n",
       "    .dataframe thead th {\n",
       "        text-align: right;\n",
       "    }\n",
       "</style>\n",
       "<table border=\"1\" class=\"dataframe\">\n",
       "  <thead>\n",
       "    <tr style=\"text-align: right;\">\n",
       "      <th></th>\n",
       "      <th>Age_scaled</th>\n",
       "      <th>Gender_Encode</th>\n",
       "      <th>Education_Level_Encode</th>\n",
       "      <th>Job_Title_Encode</th>\n",
       "      <th>Location_Encode</th>\n",
       "      <th>Experience_years_scaled</th>\n",
       "      <th>Actual Salary</th>\n",
       "      <th>Predicted Salary</th>\n",
       "    </tr>\n",
       "  </thead>\n",
       "  <tbody>\n",
       "    <tr>\n",
       "      <th>132</th>\n",
       "      <td>0.364791</td>\n",
       "      <td>0</td>\n",
       "      <td>1</td>\n",
       "      <td>154</td>\n",
       "      <td>0</td>\n",
       "      <td>0.292364</td>\n",
       "      <td>100000.0</td>\n",
       "      <td>117415.913446</td>\n",
       "    </tr>\n",
       "    <tr>\n",
       "      <th>108</th>\n",
       "      <td>0.504169</td>\n",
       "      <td>0</td>\n",
       "      <td>1</td>\n",
       "      <td>131</td>\n",
       "      <td>0</td>\n",
       "      <td>0.593560</td>\n",
       "      <td>100000.0</td>\n",
       "      <td>125562.807428</td>\n",
       "    </tr>\n",
       "    <tr>\n",
       "      <th>137</th>\n",
       "      <td>-1.028986</td>\n",
       "      <td>0</td>\n",
       "      <td>0</td>\n",
       "      <td>64</td>\n",
       "      <td>0</td>\n",
       "      <td>-0.912419</td>\n",
       "      <td>50000.0</td>\n",
       "      <td>48965.153862</td>\n",
       "    </tr>\n",
       "    <tr>\n",
       "      <th>9</th>\n",
       "      <td>0.086036</td>\n",
       "      <td>1</td>\n",
       "      <td>2</td>\n",
       "      <td>150</td>\n",
       "      <td>0</td>\n",
       "      <td>-0.008831</td>\n",
       "      <td>110000.0</td>\n",
       "      <td>128739.348880</td>\n",
       "    </tr>\n",
       "    <tr>\n",
       "      <th>181</th>\n",
       "      <td>-0.053342</td>\n",
       "      <td>1</td>\n",
       "      <td>1</td>\n",
       "      <td>110</td>\n",
       "      <td>0</td>\n",
       "      <td>-0.159429</td>\n",
       "      <td>105000.0</td>\n",
       "      <td>106828.499305</td>\n",
       "    </tr>\n",
       "    <tr>\n",
       "      <th>...</th>\n",
       "      <td>...</td>\n",
       "      <td>...</td>\n",
       "      <td>...</td>\n",
       "      <td>...</td>\n",
       "      <td>...</td>\n",
       "      <td>...</td>\n",
       "      <td>...</td>\n",
       "      <td>...</td>\n",
       "    </tr>\n",
       "    <tr>\n",
       "      <th>104</th>\n",
       "      <td>0.225413</td>\n",
       "      <td>0</td>\n",
       "      <td>1</td>\n",
       "      <td>143</td>\n",
       "      <td>0</td>\n",
       "      <td>0.442962</td>\n",
       "      <td>80000.0</td>\n",
       "      <td>117279.788471</td>\n",
       "    </tr>\n",
       "    <tr>\n",
       "      <th>233</th>\n",
       "      <td>-0.332098</td>\n",
       "      <td>1</td>\n",
       "      <td>0</td>\n",
       "      <td>136</td>\n",
       "      <td>0</td>\n",
       "      <td>-0.310027</td>\n",
       "      <td>85000.0</td>\n",
       "      <td>83396.821876</td>\n",
       "    </tr>\n",
       "    <tr>\n",
       "      <th>60</th>\n",
       "      <td>1.897946</td>\n",
       "      <td>0</td>\n",
       "      <td>1</td>\n",
       "      <td>30</td>\n",
       "      <td>0</td>\n",
       "      <td>1.948941</td>\n",
       "      <td>170000.0</td>\n",
       "      <td>177743.761029</td>\n",
       "    </tr>\n",
       "    <tr>\n",
       "      <th>94</th>\n",
       "      <td>-0.610853</td>\n",
       "      <td>1</td>\n",
       "      <td>0</td>\n",
       "      <td>3</td>\n",
       "      <td>0</td>\n",
       "      <td>-0.460625</td>\n",
       "      <td>75000.0</td>\n",
       "      <td>72275.144274</td>\n",
       "    </tr>\n",
       "    <tr>\n",
       "      <th>278</th>\n",
       "      <td>-0.192720</td>\n",
       "      <td>1</td>\n",
       "      <td>0</td>\n",
       "      <td>141</td>\n",
       "      <td>0</td>\n",
       "      <td>-0.310027</td>\n",
       "      <td>95000.0</td>\n",
       "      <td>86307.613619</td>\n",
       "    </tr>\n",
       "  </tbody>\n",
       "</table>\n",
       "<p>65 rows × 8 columns</p>\n",
       "</div>"
      ],
      "text/plain": [
       "     Age_scaled  Gender_Encode  Education_Level_Encode  Job_Title_Encode  \\\n",
       "132    0.364791              0                       1               154   \n",
       "108    0.504169              0                       1               131   \n",
       "137   -1.028986              0                       0                64   \n",
       "9      0.086036              1                       2               150   \n",
       "181   -0.053342              1                       1               110   \n",
       "..          ...            ...                     ...               ...   \n",
       "104    0.225413              0                       1               143   \n",
       "233   -0.332098              1                       0               136   \n",
       "60     1.897946              0                       1                30   \n",
       "94    -0.610853              1                       0                 3   \n",
       "278   -0.192720              1                       0               141   \n",
       "\n",
       "     Location_Encode  Experience_years_scaled  Actual Salary  Predicted Salary  \n",
       "132                0                 0.292364       100000.0     117415.913446  \n",
       "108                0                 0.593560       100000.0     125562.807428  \n",
       "137                0                -0.912419        50000.0      48965.153862  \n",
       "9                  0                -0.008831       110000.0     128739.348880  \n",
       "181                0                -0.159429       105000.0     106828.499305  \n",
       "..               ...                      ...            ...               ...  \n",
       "104                0                 0.442962        80000.0     117279.788471  \n",
       "233                0                -0.310027        85000.0      83396.821876  \n",
       "60                 0                 1.948941       170000.0     177743.761029  \n",
       "94                 0                -0.460625        75000.0      72275.144274  \n",
       "278                0                -0.310027        95000.0      86307.613619  \n",
       "\n",
       "[65 rows x 8 columns]"
      ]
     },
     "execution_count": 63,
     "metadata": {},
     "output_type": "execute_result"
    }
   ],
   "source": [
    "df1"
   ]
  },
  {
   "cell_type": "markdown",
   "id": "d575664c",
   "metadata": {},
   "source": [
    "# Random Forest Regressor"
   ]
  },
  {
   "cell_type": "code",
   "execution_count": 115,
   "id": "d0960e96",
   "metadata": {},
   "outputs": [
    {
     "data": {
      "text/html": [
       "<style>#sk-container-id-5 {color: black;background-color: white;}#sk-container-id-5 pre{padding: 0;}#sk-container-id-5 div.sk-toggleable {background-color: white;}#sk-container-id-5 label.sk-toggleable__label {cursor: pointer;display: block;width: 100%;margin-bottom: 0;padding: 0.3em;box-sizing: border-box;text-align: center;}#sk-container-id-5 label.sk-toggleable__label-arrow:before {content: \"▸\";float: left;margin-right: 0.25em;color: #696969;}#sk-container-id-5 label.sk-toggleable__label-arrow:hover:before {color: black;}#sk-container-id-5 div.sk-estimator:hover label.sk-toggleable__label-arrow:before {color: black;}#sk-container-id-5 div.sk-toggleable__content {max-height: 0;max-width: 0;overflow: hidden;text-align: left;background-color: #f0f8ff;}#sk-container-id-5 div.sk-toggleable__content pre {margin: 0.2em;color: black;border-radius: 0.25em;background-color: #f0f8ff;}#sk-container-id-5 input.sk-toggleable__control:checked~div.sk-toggleable__content {max-height: 200px;max-width: 100%;overflow: auto;}#sk-container-id-5 input.sk-toggleable__control:checked~label.sk-toggleable__label-arrow:before {content: \"▾\";}#sk-container-id-5 div.sk-estimator input.sk-toggleable__control:checked~label.sk-toggleable__label {background-color: #d4ebff;}#sk-container-id-5 div.sk-label input.sk-toggleable__control:checked~label.sk-toggleable__label {background-color: #d4ebff;}#sk-container-id-5 input.sk-hidden--visually {border: 0;clip: rect(1px 1px 1px 1px);clip: rect(1px, 1px, 1px, 1px);height: 1px;margin: -1px;overflow: hidden;padding: 0;position: absolute;width: 1px;}#sk-container-id-5 div.sk-estimator {font-family: monospace;background-color: #f0f8ff;border: 1px dotted black;border-radius: 0.25em;box-sizing: border-box;margin-bottom: 0.5em;}#sk-container-id-5 div.sk-estimator:hover {background-color: #d4ebff;}#sk-container-id-5 div.sk-parallel-item::after {content: \"\";width: 100%;border-bottom: 1px solid gray;flex-grow: 1;}#sk-container-id-5 div.sk-label:hover label.sk-toggleable__label {background-color: #d4ebff;}#sk-container-id-5 div.sk-serial::before {content: \"\";position: absolute;border-left: 1px solid gray;box-sizing: border-box;top: 0;bottom: 0;left: 50%;z-index: 0;}#sk-container-id-5 div.sk-serial {display: flex;flex-direction: column;align-items: center;background-color: white;padding-right: 0.2em;padding-left: 0.2em;position: relative;}#sk-container-id-5 div.sk-item {position: relative;z-index: 1;}#sk-container-id-5 div.sk-parallel {display: flex;align-items: stretch;justify-content: center;background-color: white;position: relative;}#sk-container-id-5 div.sk-item::before, #sk-container-id-5 div.sk-parallel-item::before {content: \"\";position: absolute;border-left: 1px solid gray;box-sizing: border-box;top: 0;bottom: 0;left: 50%;z-index: -1;}#sk-container-id-5 div.sk-parallel-item {display: flex;flex-direction: column;z-index: 1;position: relative;background-color: white;}#sk-container-id-5 div.sk-parallel-item:first-child::after {align-self: flex-end;width: 50%;}#sk-container-id-5 div.sk-parallel-item:last-child::after {align-self: flex-start;width: 50%;}#sk-container-id-5 div.sk-parallel-item:only-child::after {width: 0;}#sk-container-id-5 div.sk-dashed-wrapped {border: 1px dashed gray;margin: 0 0.4em 0.5em 0.4em;box-sizing: border-box;padding-bottom: 0.4em;background-color: white;}#sk-container-id-5 div.sk-label label {font-family: monospace;font-weight: bold;display: inline-block;line-height: 1.2em;}#sk-container-id-5 div.sk-label-container {text-align: center;}#sk-container-id-5 div.sk-container {/* jupyter's `normalize.less` sets `[hidden] { display: none; }` but bootstrap.min.css set `[hidden] { display: none !important; }` so we also need the `!important` here to be able to override the default hidden behavior on the sphinx rendered scikit-learn.org. See: https://github.com/scikit-learn/scikit-learn/issues/21755 */display: inline-block !important;position: relative;}#sk-container-id-5 div.sk-text-repr-fallback {display: none;}</style><div id=\"sk-container-id-5\" class=\"sk-top-container\"><div class=\"sk-text-repr-fallback\"><pre>RandomForestRegressor()</pre><b>In a Jupyter environment, please rerun this cell to show the HTML representation or trust the notebook. <br />On GitHub, the HTML representation is unable to render, please try loading this page with nbviewer.org.</b></div><div class=\"sk-container\" hidden><div class=\"sk-item\"><div class=\"sk-estimator sk-toggleable\"><input class=\"sk-toggleable__control sk-hidden--visually\" id=\"sk-estimator-id-5\" type=\"checkbox\" checked><label for=\"sk-estimator-id-5\" class=\"sk-toggleable__label sk-toggleable__label-arrow\">RandomForestRegressor</label><div class=\"sk-toggleable__content\"><pre>RandomForestRegressor()</pre></div></div></div></div></div>"
      ],
      "text/plain": [
       "RandomForestRegressor()"
      ]
     },
     "execution_count": 115,
     "metadata": {},
     "output_type": "execute_result"
    }
   ],
   "source": [
    "from sklearn.ensemble import RandomForestRegressor\n",
    "rf=RandomForestRegressor()\n",
    "rf.fit(x_train,y_train)"
   ]
  },
  {
   "cell_type": "markdown",
   "id": "22456db8",
   "metadata": {},
   "source": [
    "# Predictions"
   ]
  },
  {
   "cell_type": "code",
   "execution_count": 116,
   "id": "b7e36f63",
   "metadata": {},
   "outputs": [
    {
     "data": {
      "text/plain": [
       "array([107750.        , 116550.        ,  48200.        , 115450.        ,\n",
       "       101950.        , 100400.        ,  50050.        ,  54166.66666667,\n",
       "       169500.        ,  46050.        ,  40200.        , 123400.        ,\n",
       "       105400.        , 152850.        ,  99350.        , 174700.        ,\n",
       "       111150.        , 108950.        ,  52550.        ,  40490.125     ,\n",
       "        90140.        ,  61500.        ,  56750.        ,  46601.        ,\n",
       "       162250.        ,  96150.        , 150200.        , 166050.        ,\n",
       "       161050.        ,  36150.        ,  97600.        , 176300.        ,\n",
       "       108900.        , 149450.        , 143450.        ,  45768.7       ,\n",
       "        85900.        ,  70950.        ,  99300.        ,  36153.5       ,\n",
       "       111150.        ,  48650.        , 115500.        ,  57166.66666667,\n",
       "        41200.        ,  49300.        , 121300.        ,  40400.        ,\n",
       "       153900.        ,  88150.        , 146900.        ,  41250.        ,\n",
       "        58450.        ,  84550.        ,  95750.        ,  64870.        ,\n",
       "        99800.        ,  51800.        ,  78366.66666667, 109850.        ,\n",
       "       117100.        ,  89200.        , 177350.        ,  57700.        ,\n",
       "        95800.        ])"
      ]
     },
     "execution_count": 116,
     "metadata": {},
     "output_type": "execute_result"
    }
   ],
   "source": [
    "y_pred3=rf.predict(x_test)\n",
    "y_pred3"
   ]
  },
  {
   "cell_type": "code",
   "execution_count": 117,
   "id": "b889b11d",
   "metadata": {},
   "outputs": [
    {
     "data": {
      "text/plain": [
       "167950412.34034294"
      ]
     },
     "execution_count": 117,
     "metadata": {},
     "output_type": "execute_result"
    }
   ],
   "source": [
    "from sklearn.metrics import mean_squared_error\n",
    "mean_squared_error(y_test,y_pred3)"
   ]
  },
  {
   "cell_type": "code",
   "execution_count": 118,
   "id": "388e3b37",
   "metadata": {},
   "outputs": [
    {
     "data": {
      "text/plain": [
       "12959.568370140378"
      ]
     },
     "execution_count": 118,
     "metadata": {},
     "output_type": "execute_result"
    }
   ],
   "source": [
    "np.sqrt(mean_squared_error(y_test,y_pred3))"
   ]
  },
  {
   "cell_type": "markdown",
   "id": "a5593d84",
   "metadata": {},
   "source": [
    "# Model Evaluation:"
   ]
  },
  {
   "cell_type": "code",
   "execution_count": 119,
   "id": "be398e5d",
   "metadata": {},
   "outputs": [
    {
     "data": {
      "text/plain": [
       "array([0.91093368, 0.83219021, 0.90474586, 0.93560281, 0.95403353,\n",
       "       0.82434856, 0.84310255, 0.94452197, 0.73789074, 0.82801548])"
      ]
     },
     "execution_count": 119,
     "metadata": {},
     "output_type": "execute_result"
    }
   ],
   "source": [
    "from sklearn.model_selection import cross_val_score\n",
    "cross_val_score(dt,x_train,y_train,cv=10)"
   ]
  },
  {
   "cell_type": "markdown",
   "id": "7db2eec3",
   "metadata": {},
   "source": [
    "# Model Accuracy:"
   ]
  },
  {
   "cell_type": "code",
   "execution_count": 120,
   "id": "48a7e2fa",
   "metadata": {},
   "outputs": [
    {
     "data": {
      "text/plain": [
       "0.988860071566387"
      ]
     },
     "execution_count": 120,
     "metadata": {},
     "output_type": "execute_result"
    }
   ],
   "source": [
    "rf.score(x_train,y_train)"
   ]
  },
  {
   "cell_type": "code",
   "execution_count": 121,
   "id": "704504f7",
   "metadata": {},
   "outputs": [
    {
     "data": {
      "text/html": [
       "<div>\n",
       "<style scoped>\n",
       "    .dataframe tbody tr th:only-of-type {\n",
       "        vertical-align: middle;\n",
       "    }\n",
       "\n",
       "    .dataframe tbody tr th {\n",
       "        vertical-align: top;\n",
       "    }\n",
       "\n",
       "    .dataframe thead th {\n",
       "        text-align: right;\n",
       "    }\n",
       "</style>\n",
       "<table border=\"1\" class=\"dataframe\">\n",
       "  <thead>\n",
       "    <tr style=\"text-align: right;\">\n",
       "      <th></th>\n",
       "      <th>y_Actual_salary</th>\n",
       "      <th>y_predicted_salary</th>\n",
       "      <th>Error</th>\n",
       "      <th>abs_error</th>\n",
       "    </tr>\n",
       "  </thead>\n",
       "  <tbody>\n",
       "    <tr>\n",
       "      <th>132</th>\n",
       "      <td>100000.0</td>\n",
       "      <td>107750.0</td>\n",
       "      <td>-7750.0</td>\n",
       "      <td>7750.0</td>\n",
       "    </tr>\n",
       "    <tr>\n",
       "      <th>108</th>\n",
       "      <td>100000.0</td>\n",
       "      <td>116550.0</td>\n",
       "      <td>-16550.0</td>\n",
       "      <td>16550.0</td>\n",
       "    </tr>\n",
       "    <tr>\n",
       "      <th>137</th>\n",
       "      <td>50000.0</td>\n",
       "      <td>48200.0</td>\n",
       "      <td>1800.0</td>\n",
       "      <td>1800.0</td>\n",
       "    </tr>\n",
       "    <tr>\n",
       "      <th>9</th>\n",
       "      <td>110000.0</td>\n",
       "      <td>115450.0</td>\n",
       "      <td>-5450.0</td>\n",
       "      <td>5450.0</td>\n",
       "    </tr>\n",
       "    <tr>\n",
       "      <th>181</th>\n",
       "      <td>105000.0</td>\n",
       "      <td>101950.0</td>\n",
       "      <td>3050.0</td>\n",
       "      <td>3050.0</td>\n",
       "    </tr>\n",
       "    <tr>\n",
       "      <th>...</th>\n",
       "      <td>...</td>\n",
       "      <td>...</td>\n",
       "      <td>...</td>\n",
       "      <td>...</td>\n",
       "    </tr>\n",
       "    <tr>\n",
       "      <th>104</th>\n",
       "      <td>80000.0</td>\n",
       "      <td>117100.0</td>\n",
       "      <td>-37100.0</td>\n",
       "      <td>37100.0</td>\n",
       "    </tr>\n",
       "    <tr>\n",
       "      <th>233</th>\n",
       "      <td>85000.0</td>\n",
       "      <td>89200.0</td>\n",
       "      <td>-4200.0</td>\n",
       "      <td>4200.0</td>\n",
       "    </tr>\n",
       "    <tr>\n",
       "      <th>60</th>\n",
       "      <td>170000.0</td>\n",
       "      <td>177350.0</td>\n",
       "      <td>-7350.0</td>\n",
       "      <td>7350.0</td>\n",
       "    </tr>\n",
       "    <tr>\n",
       "      <th>94</th>\n",
       "      <td>75000.0</td>\n",
       "      <td>57700.0</td>\n",
       "      <td>17300.0</td>\n",
       "      <td>17300.0</td>\n",
       "    </tr>\n",
       "    <tr>\n",
       "      <th>278</th>\n",
       "      <td>95000.0</td>\n",
       "      <td>95800.0</td>\n",
       "      <td>-800.0</td>\n",
       "      <td>800.0</td>\n",
       "    </tr>\n",
       "  </tbody>\n",
       "</table>\n",
       "<p>65 rows × 4 columns</p>\n",
       "</div>"
      ],
      "text/plain": [
       "     y_Actual_salary  y_predicted_salary    Error  abs_error\n",
       "132         100000.0            107750.0  -7750.0     7750.0\n",
       "108         100000.0            116550.0 -16550.0    16550.0\n",
       "137          50000.0             48200.0   1800.0     1800.0\n",
       "9           110000.0            115450.0  -5450.0     5450.0\n",
       "181         105000.0            101950.0   3050.0     3050.0\n",
       "..               ...                 ...      ...        ...\n",
       "104          80000.0            117100.0 -37100.0    37100.0\n",
       "233          85000.0             89200.0  -4200.0     4200.0\n",
       "60          170000.0            177350.0  -7350.0     7350.0\n",
       "94           75000.0             57700.0  17300.0    17300.0\n",
       "278          95000.0             95800.0   -800.0      800.0\n",
       "\n",
       "[65 rows x 4 columns]"
      ]
     },
     "execution_count": 121,
     "metadata": {},
     "output_type": "execute_result"
    }
   ],
   "source": [
    "df=pd.DataFrame({'y_Actual_salary':y_test,'y_predicted_salary':y_pred3})\n",
    "df['Error']=df['y_Actual_salary']-df['y_predicted_salary']\n",
    "df['abs_error']=abs(df['Error'])\n",
    "df"
   ]
  },
  {
   "cell_type": "markdown",
   "id": "cd145258",
   "metadata": {},
   "source": [
    "# Mean Absolute Error:"
   ]
  },
  {
   "cell_type": "code",
   "execution_count": 122,
   "id": "4c04f4ff",
   "metadata": {},
   "outputs": [
    {
     "data": {
      "text/plain": [
       "9358.252435897435"
      ]
     },
     "execution_count": 122,
     "metadata": {},
     "output_type": "execute_result"
    }
   ],
   "source": [
    "Mean_absolute_Error=df['abs_error'].mean()\n",
    "Mean_absolute_Error"
   ]
  },
  {
   "cell_type": "markdown",
   "id": "1f4a8c37",
   "metadata": {},
   "source": [
    "# Mean Squared Error"
   ]
  },
  {
   "cell_type": "code",
   "execution_count": 123,
   "id": "94200b91",
   "metadata": {},
   "outputs": [
    {
     "data": {
      "text/plain": [
       "167950412.34"
      ]
     },
     "execution_count": 123,
     "metadata": {},
     "output_type": "execute_result"
    }
   ],
   "source": [
    "mse=round(mean_squared_error(y_test,y_pred3),2)\n",
    "mse"
   ]
  },
  {
   "cell_type": "code",
   "execution_count": 124,
   "id": "aefc9ecd",
   "metadata": {},
   "outputs": [
    {
     "name": "stdout",
     "output_type": "stream",
     "text": [
      "Mean Squared Error= 167950412.34\n"
     ]
    }
   ],
   "source": [
    "print(f\"Mean Squared Error= {round(mean_squared_error(y_test,y_pred3),2)}\")"
   ]
  },
  {
   "cell_type": "markdown",
   "id": "94a645ee",
   "metadata": {},
   "source": [
    "# Root Mean Squared Error\n"
   ]
  },
  {
   "cell_type": "code",
   "execution_count": 125,
   "id": "77c70181",
   "metadata": {},
   "outputs": [
    {
     "name": "stdout",
     "output_type": "stream",
     "text": [
      "Root Mean Squared Error(RMSE)= 12959.568370127146\n"
     ]
    }
   ],
   "source": [
    "print('Root Mean Squared Error(RMSE)=',mse**(0.5))"
   ]
  },
  {
   "cell_type": "code",
   "execution_count": 126,
   "id": "68705480",
   "metadata": {},
   "outputs": [
    {
     "data": {
      "text/html": [
       "<div>\n",
       "<style scoped>\n",
       "    .dataframe tbody tr th:only-of-type {\n",
       "        vertical-align: middle;\n",
       "    }\n",
       "\n",
       "    .dataframe tbody tr th {\n",
       "        vertical-align: top;\n",
       "    }\n",
       "\n",
       "    .dataframe thead th {\n",
       "        text-align: right;\n",
       "    }\n",
       "</style>\n",
       "<table border=\"1\" class=\"dataframe\">\n",
       "  <thead>\n",
       "    <tr style=\"text-align: right;\">\n",
       "      <th></th>\n",
       "      <th>Age_scaled</th>\n",
       "      <th>Gender_Encode</th>\n",
       "      <th>Education_Level_Encode</th>\n",
       "      <th>Job_Title_Encode</th>\n",
       "      <th>Location_Encode</th>\n",
       "      <th>Experience_years_scaled</th>\n",
       "      <th>Actual Salary</th>\n",
       "      <th>Predicted Salary</th>\n",
       "    </tr>\n",
       "  </thead>\n",
       "  <tbody>\n",
       "    <tr>\n",
       "      <th>132</th>\n",
       "      <td>0.364791</td>\n",
       "      <td>0</td>\n",
       "      <td>1</td>\n",
       "      <td>154</td>\n",
       "      <td>0</td>\n",
       "      <td>0.292364</td>\n",
       "      <td>100000.0</td>\n",
       "      <td>117415.913446</td>\n",
       "    </tr>\n",
       "    <tr>\n",
       "      <th>108</th>\n",
       "      <td>0.504169</td>\n",
       "      <td>0</td>\n",
       "      <td>1</td>\n",
       "      <td>131</td>\n",
       "      <td>0</td>\n",
       "      <td>0.593560</td>\n",
       "      <td>100000.0</td>\n",
       "      <td>125562.807428</td>\n",
       "    </tr>\n",
       "    <tr>\n",
       "      <th>137</th>\n",
       "      <td>-1.028986</td>\n",
       "      <td>0</td>\n",
       "      <td>0</td>\n",
       "      <td>64</td>\n",
       "      <td>0</td>\n",
       "      <td>-0.912419</td>\n",
       "      <td>50000.0</td>\n",
       "      <td>48965.153862</td>\n",
       "    </tr>\n",
       "    <tr>\n",
       "      <th>9</th>\n",
       "      <td>0.086036</td>\n",
       "      <td>1</td>\n",
       "      <td>2</td>\n",
       "      <td>150</td>\n",
       "      <td>0</td>\n",
       "      <td>-0.008831</td>\n",
       "      <td>110000.0</td>\n",
       "      <td>128739.348880</td>\n",
       "    </tr>\n",
       "    <tr>\n",
       "      <th>181</th>\n",
       "      <td>-0.053342</td>\n",
       "      <td>1</td>\n",
       "      <td>1</td>\n",
       "      <td>110</td>\n",
       "      <td>0</td>\n",
       "      <td>-0.159429</td>\n",
       "      <td>105000.0</td>\n",
       "      <td>106828.499305</td>\n",
       "    </tr>\n",
       "  </tbody>\n",
       "</table>\n",
       "</div>"
      ],
      "text/plain": [
       "     Age_scaled  Gender_Encode  Education_Level_Encode  Job_Title_Encode  \\\n",
       "132    0.364791              0                       1               154   \n",
       "108    0.504169              0                       1               131   \n",
       "137   -1.028986              0                       0                64   \n",
       "9      0.086036              1                       2               150   \n",
       "181   -0.053342              1                       1               110   \n",
       "\n",
       "     Location_Encode  Experience_years_scaled  Actual Salary  Predicted Salary  \n",
       "132                0                 0.292364       100000.0     117415.913446  \n",
       "108                0                 0.593560       100000.0     125562.807428  \n",
       "137                0                -0.912419        50000.0      48965.153862  \n",
       "9                  0                -0.008831       110000.0     128739.348880  \n",
       "181                0                -0.159429       105000.0     106828.499305  "
      ]
     },
     "execution_count": 126,
     "metadata": {},
     "output_type": "execute_result"
    }
   ],
   "source": [
    "df1.head()"
   ]
  },
  {
   "cell_type": "code",
   "execution_count": 127,
   "id": "f9d14bed",
   "metadata": {},
   "outputs": [
    {
     "name": "stderr",
     "output_type": "stream",
     "text": [
      "C:\\Users\\reena\\AppData\\Local\\anaconda3\\lib\\site-packages\\sklearn\\base.py:420: UserWarning: X does not have valid feature names, but StandardScaler was fitted with feature names\n",
      "  warnings.warn(\n",
      "C:\\Users\\reena\\AppData\\Local\\anaconda3\\lib\\site-packages\\sklearn\\base.py:420: UserWarning: X does not have valid feature names, but StandardScaler was fitted with feature names\n",
      "  warnings.warn(\n"
     ]
    }
   ],
   "source": [
    "Age1=std_scaler.transform([[52]])\n",
    "Age=2.037324\n",
    "Gender=1\n",
    "Education_Level=1\n",
    "Job_Title=1\n",
    "Experience_years=std_scaler.transform([[20]])\n",
    "Experience_years=1.497148\n",
    "Location=0"
   ]
  },
  {
   "cell_type": "code",
   "execution_count": 128,
   "id": "75a4bb6a",
   "metadata": {},
   "outputs": [
    {
     "name": "stderr",
     "output_type": "stream",
     "text": [
      "C:\\Users\\reena\\AppData\\Local\\anaconda3\\lib\\site-packages\\sklearn\\base.py:420: UserWarning: X does not have valid feature names, but StandardScaler was fitted with feature names\n",
      "  warnings.warn(\n"
     ]
    },
    {
     "data": {
      "text/plain": [
       "array([[1.49714765]])"
      ]
     },
     "execution_count": 128,
     "metadata": {},
     "output_type": "execute_result"
    }
   ],
   "source": [
    "std_scaler.transform([[20]])"
   ]
  },
  {
   "cell_type": "code",
   "execution_count": 129,
   "id": "17ae165e",
   "metadata": {},
   "outputs": [
    {
     "name": "stderr",
     "output_type": "stream",
     "text": [
      "C:\\Users\\reena\\AppData\\Local\\anaconda3\\lib\\site-packages\\sklearn\\base.py:420: UserWarning: X does not have valid feature names, but RandomForestRegressor was fitted with feature names\n",
      "  warnings.warn(\n"
     ]
    },
    {
     "data": {
      "text/plain": [
       "array([149949.94130192])"
      ]
     },
     "execution_count": 129,
     "metadata": {},
     "output_type": "execute_result"
    }
   ],
   "source": [
    "Emp_Salary_rf=rf.predict([[Age,Gender,Education_Level,Job_Title,Experience_years,Location]])\n",
    "Emp_Salary"
   ]
  },
  {
   "cell_type": "code",
   "execution_count": 130,
   "id": "6b83df3c",
   "metadata": {
    "scrolled": true
   },
   "outputs": [
    {
     "name": "stdout",
     "output_type": "stream",
     "text": [
      "salary of Employee with above Attributes= 138900.0\n"
     ]
    }
   ],
   "source": [
    "print(\"salary of Employee with above Attributes=\",Emp_Salary_rf[0])"
   ]
  },
  {
   "cell_type": "code",
   "execution_count": 131,
   "id": "5d85e71e",
   "metadata": {},
   "outputs": [],
   "source": [
    "df1.to_csv(r'employee_salary_prediction_d.csv',index=True)"
   ]
  },
  {
   "cell_type": "markdown",
   "id": "0ce015d1",
   "metadata": {},
   "source": [
    "# Gradient Boosting"
   ]
  },
  {
   "cell_type": "code",
   "execution_count": 132,
   "id": "51c90580",
   "metadata": {},
   "outputs": [
    {
     "data": {
      "text/html": [
       "<div>\n",
       "<style scoped>\n",
       "    .dataframe tbody tr th:only-of-type {\n",
       "        vertical-align: middle;\n",
       "    }\n",
       "\n",
       "    .dataframe tbody tr th {\n",
       "        vertical-align: top;\n",
       "    }\n",
       "\n",
       "    .dataframe thead th {\n",
       "        text-align: right;\n",
       "    }\n",
       "</style>\n",
       "<table border=\"1\" class=\"dataframe\">\n",
       "  <thead>\n",
       "    <tr style=\"text-align: right;\">\n",
       "      <th></th>\n",
       "      <th>Age_scaled</th>\n",
       "      <th>Gender_Encode</th>\n",
       "      <th>Education_Level_Encode</th>\n",
       "      <th>Job_Title_Encode</th>\n",
       "      <th>Location_Encode</th>\n",
       "      <th>Experience_years_scaled</th>\n",
       "    </tr>\n",
       "  </thead>\n",
       "  <tbody>\n",
       "    <tr>\n",
       "      <th>73</th>\n",
       "      <td>-1.307742</td>\n",
       "      <td>1</td>\n",
       "      <td>0</td>\n",
       "      <td>166</td>\n",
       "      <td>0</td>\n",
       "      <td>-1.213615</td>\n",
       "    </tr>\n",
       "    <tr>\n",
       "      <th>182</th>\n",
       "      <td>0.922302</td>\n",
       "      <td>0</td>\n",
       "      <td>2</td>\n",
       "      <td>155</td>\n",
       "      <td>0</td>\n",
       "      <td>0.744158</td>\n",
       "    </tr>\n",
       "    <tr>\n",
       "      <th>17</th>\n",
       "      <td>0.225413</td>\n",
       "      <td>1</td>\n",
       "      <td>2</td>\n",
       "      <td>116</td>\n",
       "      <td>0</td>\n",
       "      <td>0.292364</td>\n",
       "    </tr>\n",
       "    <tr>\n",
       "      <th>24</th>\n",
       "      <td>0.504169</td>\n",
       "      <td>1</td>\n",
       "      <td>1</td>\n",
       "      <td>37</td>\n",
       "      <td>0</td>\n",
       "      <td>0.442962</td>\n",
       "    </tr>\n",
       "    <tr>\n",
       "      <th>146</th>\n",
       "      <td>0.643547</td>\n",
       "      <td>0</td>\n",
       "      <td>2</td>\n",
       "      <td>115</td>\n",
       "      <td>0</td>\n",
       "      <td>0.894756</td>\n",
       "    </tr>\n",
       "  </tbody>\n",
       "</table>\n",
       "</div>"
      ],
      "text/plain": [
       "     Age_scaled  Gender_Encode  Education_Level_Encode  Job_Title_Encode  \\\n",
       "73    -1.307742              1                       0               166   \n",
       "182    0.922302              0                       2               155   \n",
       "17     0.225413              1                       2               116   \n",
       "24     0.504169              1                       1                37   \n",
       "146    0.643547              0                       2               115   \n",
       "\n",
       "     Location_Encode  Experience_years_scaled  \n",
       "73                 0                -1.213615  \n",
       "182                0                 0.744158  \n",
       "17                 0                 0.292364  \n",
       "24                 0                 0.442962  \n",
       "146                0                 0.894756  "
      ]
     },
     "execution_count": 132,
     "metadata": {},
     "output_type": "execute_result"
    }
   ],
   "source": [
    "from sklearn.model_selection import train_test_split\n",
    "x_train,x_test,y_train,y_test=train_test_split(x,y,test_size=0.2,random_state=42)\n",
    "x_train.head()"
   ]
  },
  {
   "cell_type": "code",
   "execution_count": 133,
   "id": "f47f2788",
   "metadata": {},
   "outputs": [],
   "source": [
    "#import requests as req\n",
    "#!pip install xgboost"
   ]
  },
  {
   "cell_type": "code",
   "execution_count": 134,
   "id": "3f555fb5",
   "metadata": {},
   "outputs": [
    {
     "data": {
      "text/html": [
       "<style>#sk-container-id-6 {color: black;background-color: white;}#sk-container-id-6 pre{padding: 0;}#sk-container-id-6 div.sk-toggleable {background-color: white;}#sk-container-id-6 label.sk-toggleable__label {cursor: pointer;display: block;width: 100%;margin-bottom: 0;padding: 0.3em;box-sizing: border-box;text-align: center;}#sk-container-id-6 label.sk-toggleable__label-arrow:before {content: \"▸\";float: left;margin-right: 0.25em;color: #696969;}#sk-container-id-6 label.sk-toggleable__label-arrow:hover:before {color: black;}#sk-container-id-6 div.sk-estimator:hover label.sk-toggleable__label-arrow:before {color: black;}#sk-container-id-6 div.sk-toggleable__content {max-height: 0;max-width: 0;overflow: hidden;text-align: left;background-color: #f0f8ff;}#sk-container-id-6 div.sk-toggleable__content pre {margin: 0.2em;color: black;border-radius: 0.25em;background-color: #f0f8ff;}#sk-container-id-6 input.sk-toggleable__control:checked~div.sk-toggleable__content {max-height: 200px;max-width: 100%;overflow: auto;}#sk-container-id-6 input.sk-toggleable__control:checked~label.sk-toggleable__label-arrow:before {content: \"▾\";}#sk-container-id-6 div.sk-estimator input.sk-toggleable__control:checked~label.sk-toggleable__label {background-color: #d4ebff;}#sk-container-id-6 div.sk-label input.sk-toggleable__control:checked~label.sk-toggleable__label {background-color: #d4ebff;}#sk-container-id-6 input.sk-hidden--visually {border: 0;clip: rect(1px 1px 1px 1px);clip: rect(1px, 1px, 1px, 1px);height: 1px;margin: -1px;overflow: hidden;padding: 0;position: absolute;width: 1px;}#sk-container-id-6 div.sk-estimator {font-family: monospace;background-color: #f0f8ff;border: 1px dotted black;border-radius: 0.25em;box-sizing: border-box;margin-bottom: 0.5em;}#sk-container-id-6 div.sk-estimator:hover {background-color: #d4ebff;}#sk-container-id-6 div.sk-parallel-item::after {content: \"\";width: 100%;border-bottom: 1px solid gray;flex-grow: 1;}#sk-container-id-6 div.sk-label:hover label.sk-toggleable__label {background-color: #d4ebff;}#sk-container-id-6 div.sk-serial::before {content: \"\";position: absolute;border-left: 1px solid gray;box-sizing: border-box;top: 0;bottom: 0;left: 50%;z-index: 0;}#sk-container-id-6 div.sk-serial {display: flex;flex-direction: column;align-items: center;background-color: white;padding-right: 0.2em;padding-left: 0.2em;position: relative;}#sk-container-id-6 div.sk-item {position: relative;z-index: 1;}#sk-container-id-6 div.sk-parallel {display: flex;align-items: stretch;justify-content: center;background-color: white;position: relative;}#sk-container-id-6 div.sk-item::before, #sk-container-id-6 div.sk-parallel-item::before {content: \"\";position: absolute;border-left: 1px solid gray;box-sizing: border-box;top: 0;bottom: 0;left: 50%;z-index: -1;}#sk-container-id-6 div.sk-parallel-item {display: flex;flex-direction: column;z-index: 1;position: relative;background-color: white;}#sk-container-id-6 div.sk-parallel-item:first-child::after {align-self: flex-end;width: 50%;}#sk-container-id-6 div.sk-parallel-item:last-child::after {align-self: flex-start;width: 50%;}#sk-container-id-6 div.sk-parallel-item:only-child::after {width: 0;}#sk-container-id-6 div.sk-dashed-wrapped {border: 1px dashed gray;margin: 0 0.4em 0.5em 0.4em;box-sizing: border-box;padding-bottom: 0.4em;background-color: white;}#sk-container-id-6 div.sk-label label {font-family: monospace;font-weight: bold;display: inline-block;line-height: 1.2em;}#sk-container-id-6 div.sk-label-container {text-align: center;}#sk-container-id-6 div.sk-container {/* jupyter's `normalize.less` sets `[hidden] { display: none; }` but bootstrap.min.css set `[hidden] { display: none !important; }` so we also need the `!important` here to be able to override the default hidden behavior on the sphinx rendered scikit-learn.org. See: https://github.com/scikit-learn/scikit-learn/issues/21755 */display: inline-block !important;position: relative;}#sk-container-id-6 div.sk-text-repr-fallback {display: none;}</style><div id=\"sk-container-id-6\" class=\"sk-top-container\"><div class=\"sk-text-repr-fallback\"><pre>XGBRegressor(base_score=None, booster=None, callbacks=None,\n",
       "             colsample_bylevel=None, colsample_bynode=None,\n",
       "             colsample_bytree=None, device=None, early_stopping_rounds=None,\n",
       "             enable_categorical=False, eval_metric=None, feature_types=None,\n",
       "             gamma=None, grow_policy=None, importance_type=None,\n",
       "             interaction_constraints=None, learning_rate=None, max_bin=None,\n",
       "             max_cat_threshold=None, max_cat_to_onehot=None,\n",
       "             max_delta_step=None, max_depth=None, max_leaves=None,\n",
       "             min_child_weight=None, missing=nan, monotone_constraints=None,\n",
       "             multi_strategy=None, n_estimators=None, n_jobs=None,\n",
       "             num_parallel_tree=None, random_state=None, ...)</pre><b>In a Jupyter environment, please rerun this cell to show the HTML representation or trust the notebook. <br />On GitHub, the HTML representation is unable to render, please try loading this page with nbviewer.org.</b></div><div class=\"sk-container\" hidden><div class=\"sk-item\"><div class=\"sk-estimator sk-toggleable\"><input class=\"sk-toggleable__control sk-hidden--visually\" id=\"sk-estimator-id-6\" type=\"checkbox\" checked><label for=\"sk-estimator-id-6\" class=\"sk-toggleable__label sk-toggleable__label-arrow\">XGBRegressor</label><div class=\"sk-toggleable__content\"><pre>XGBRegressor(base_score=None, booster=None, callbacks=None,\n",
       "             colsample_bylevel=None, colsample_bynode=None,\n",
       "             colsample_bytree=None, device=None, early_stopping_rounds=None,\n",
       "             enable_categorical=False, eval_metric=None, feature_types=None,\n",
       "             gamma=None, grow_policy=None, importance_type=None,\n",
       "             interaction_constraints=None, learning_rate=None, max_bin=None,\n",
       "             max_cat_threshold=None, max_cat_to_onehot=None,\n",
       "             max_delta_step=None, max_depth=None, max_leaves=None,\n",
       "             min_child_weight=None, missing=nan, monotone_constraints=None,\n",
       "             multi_strategy=None, n_estimators=None, n_jobs=None,\n",
       "             num_parallel_tree=None, random_state=None, ...)</pre></div></div></div></div></div>"
      ],
      "text/plain": [
       "XGBRegressor(base_score=None, booster=None, callbacks=None,\n",
       "             colsample_bylevel=None, colsample_bynode=None,\n",
       "             colsample_bytree=None, device=None, early_stopping_rounds=None,\n",
       "             enable_categorical=False, eval_metric=None, feature_types=None,\n",
       "             gamma=None, grow_policy=None, importance_type=None,\n",
       "             interaction_constraints=None, learning_rate=None, max_bin=None,\n",
       "             max_cat_threshold=None, max_cat_to_onehot=None,\n",
       "             max_delta_step=None, max_depth=None, max_leaves=None,\n",
       "             min_child_weight=None, missing=nan, monotone_constraints=None,\n",
       "             multi_strategy=None, n_estimators=None, n_jobs=None,\n",
       "             num_parallel_tree=None, random_state=None, ...)"
      ]
     },
     "execution_count": 134,
     "metadata": {},
     "output_type": "execute_result"
    }
   ],
   "source": [
    "from xgboost import XGBRegressor\n",
    "xgb= XGBRegressor()\n",
    "xgb.fit(x_train,y_train)"
   ]
  },
  {
   "cell_type": "markdown",
   "id": "2316839e",
   "metadata": {},
   "source": [
    "# Predicting X_test Data"
   ]
  },
  {
   "cell_type": "code",
   "execution_count": 135,
   "id": "d3ce8a04",
   "metadata": {},
   "outputs": [
    {
     "name": "stdout",
     "output_type": "stream",
     "text": [
      "[107222.83  131681.03   52941.242 122342.86  109681.93   96245.6\n",
      "  42387.58   53962.855 169500.48   49654.79   40729.46  122015.805\n",
      " 110888.87  150129.47  103395.32  177685.31  115130.04   86369.27\n",
      "  49773.625  44079.492  89710.85   60162.7    58129.668  40846.71\n",
      " 170624.19   96262.734 151386.94  166333.4   163011.5    39329.562\n",
      "  95186.195 176925.95  103402.95  149315.83  139902.05   48385.688\n",
      "  86102.55   58230.242 105285.53   33321.707 108505.29   43713.508\n",
      " 113488.664  61859.582  47985.836  48102.918 118697.03   39996.527\n",
      " 150865.97   88118.03  139929.44   42319.836  57510.883  81658.76\n",
      "  89794.17   66469.07   95019.27   52188.02   77657.57  111196.83\n",
      " 124535.73   88117.31  183495.53   60025.465  99973.7  ]\n"
     ]
    }
   ],
   "source": [
    "y_pred4=xgb.predict(x_test)\n",
    "print(y_pred4)"
   ]
  },
  {
   "cell_type": "code",
   "execution_count": 136,
   "id": "d976b906",
   "metadata": {},
   "outputs": [],
   "source": [
    "diff=y_test-y_pred4"
   ]
  },
  {
   "cell_type": "markdown",
   "id": "55df3745",
   "metadata": {},
   "source": [
    "# Visualizing Difference"
   ]
  },
  {
   "cell_type": "code",
   "execution_count": 137,
   "id": "47a2210c",
   "metadata": {},
   "outputs": [
    {
     "data": {
      "text/plain": [
       "<seaborn.axisgrid.FacetGrid at 0x173de056140>"
      ]
     },
     "execution_count": 137,
     "metadata": {},
     "output_type": "execute_result"
    },
    {
     "data": {
      "text/plain": [
       "<Figure size 1200x600 with 0 Axes>"
      ]
     },
     "metadata": {},
     "output_type": "display_data"
    },
    {
     "data": {
      "image/png": "[encoded data removed]",
      "text/plain": [
       "<Figure size 500x500 with 1 Axes>"
      ]
     },
     "metadata": {},
     "output_type": "display_data"
    }
   ],
   "source": [
    "plt.figure(figsize=(12,6))\n",
    "sns.displot(diff)"
   ]
  },
  {
   "cell_type": "markdown",
   "id": "21cd5c83",
   "metadata": {},
   "source": [
    "# Accuracy score or R^2 SCORE"
   ]
  },
  {
   "cell_type": "code",
   "execution_count": 138,
   "id": "94450bba",
   "metadata": {},
   "outputs": [
    {
     "name": "stdout",
     "output_type": "stream",
     "text": [
      "XGBoost R2 Score: 0.909229799562235\n"
     ]
    }
   ],
   "source": [
    "xgb_r2_score=xgb.score(x_test,y_test)\n",
    "print(\"XGBoost R2 Score:\",(xgb_r2_score))"
   ]
  },
  {
   "cell_type": "code",
   "execution_count": 139,
   "id": "0d1f4bc0",
   "metadata": {},
   "outputs": [
    {
     "name": "stdout",
     "output_type": "stream",
     "text": [
      "Requirement already satisfied: tensorflow in c:\\users\\reena\\appdata\\local\\anaconda3\\lib\\site-packages (2.14.0)\n",
      "Requirement already satisfied: scikit-learn in c:\\users\\reena\\appdata\\local\\anaconda3\\lib\\site-packages (1.2.1)\n",
      "Requirement already satisfied: tensorflow-intel==2.14.0 in c:\\users\\reena\\appdata\\local\\anaconda3\\lib\\site-packages (from tensorflow) (2.14.0)\n",
      "Requirement already satisfied: h5py>=2.9.0 in c:\\users\\reena\\appdata\\local\\anaconda3\\lib\\site-packages (from tensorflow-intel==2.14.0->tensorflow) (3.7.0)\n",
      "Requirement already satisfied: libclang>=13.0.0 in c:\\users\\reena\\appdata\\local\\anaconda3\\lib\\site-packages (from tensorflow-intel==2.14.0->tensorflow) (16.0.6)\n",
      "Requirement already satisfied: gast!=0.5.0,!=0.5.1,!=0.5.2,>=0.2.1 in c:\\users\\reena\\appdata\\local\\anaconda3\\lib\\site-packages (from tensorflow-intel==2.14.0->tensorflow) (0.5.4)\n",
      "Requirement already satisfied: absl-py>=1.0.0 in c:\\users\\reena\\appdata\\local\\anaconda3\\lib\\site-packages (from tensorflow-intel==2.14.0->tensorflow) (2.0.0)\n",
      "Requirement already satisfied: wrapt<1.15,>=1.11.0 in c:\\users\\reena\\appdata\\local\\anaconda3\\lib\\site-packages (from tensorflow-intel==2.14.0->tensorflow) (1.14.1)\n",
      "Requirement already satisfied: typing-extensions>=3.6.6 in c:\\users\\reena\\appdata\\local\\anaconda3\\lib\\site-packages (from tensorflow-intel==2.14.0->tensorflow) (4.4.0)\n",
      "Requirement already satisfied: tensorflow-estimator<2.15,>=2.14.0 in c:\\users\\reena\\appdata\\local\\anaconda3\\lib\\site-packages (from tensorflow-intel==2.14.0->tensorflow) (2.14.0)\n",
      "Requirement already satisfied: tensorboard<2.15,>=2.14 in c:\\users\\reena\\appdata\\local\\anaconda3\\lib\\site-packages (from tensorflow-intel==2.14.0->tensorflow) (2.14.1)\n",
      "Requirement already satisfied: packaging in c:\\users\\reena\\appdata\\local\\anaconda3\\lib\\site-packages (from tensorflow-intel==2.14.0->tensorflow) (22.0)\n",
      "Requirement already satisfied: numpy>=1.23.5 in c:\\users\\reena\\appdata\\local\\anaconda3\\lib\\site-packages (from tensorflow-intel==2.14.0->tensorflow) (1.23.5)\n",
      "Requirement already satisfied: tensorflow-io-gcs-filesystem>=0.23.1 in c:\\users\\reena\\appdata\\local\\anaconda3\\lib\\site-packages (from tensorflow-intel==2.14.0->tensorflow) (0.31.0)\n",
      "Requirement already satisfied: flatbuffers>=23.5.26 in c:\\users\\reena\\appdata\\local\\anaconda3\\lib\\site-packages (from tensorflow-intel==2.14.0->tensorflow) (23.5.26)\n",
      "Requirement already satisfied: astunparse>=1.6.0 in c:\\users\\reena\\appdata\\local\\anaconda3\\lib\\site-packages (from tensorflow-intel==2.14.0->tensorflow) (1.6.3)\n",
      "Requirement already satisfied: keras<2.15,>=2.14.0 in c:\\users\\reena\\appdata\\local\\anaconda3\\lib\\site-packages (from tensorflow-intel==2.14.0->tensorflow) (2.14.0)\n",
      "Requirement already satisfied: six>=1.12.0 in c:\\users\\reena\\appdata\\local\\anaconda3\\lib\\site-packages (from tensorflow-intel==2.14.0->tensorflow) (1.16.0)\n",
      "Requirement already satisfied: google-pasta>=0.1.1 in c:\\users\\reena\\appdata\\local\\anaconda3\\lib\\site-packages (from tensorflow-intel==2.14.0->tensorflow) (0.2.0)\n",
      "Requirement already satisfied: grpcio<2.0,>=1.24.3 in c:\\users\\reena\\appdata\\local\\anaconda3\\lib\\site-packages (from tensorflow-intel==2.14.0->tensorflow) (1.59.2)\n",
      "Requirement already satisfied: ml-dtypes==0.2.0 in c:\\users\\reena\\appdata\\local\\anaconda3\\lib\\site-packages (from tensorflow-intel==2.14.0->tensorflow) (0.2.0)\n",
      "Requirement already satisfied: opt-einsum>=2.3.2 in c:\\users\\reena\\appdata\\local\\anaconda3\\lib\\site-packages (from tensorflow-intel==2.14.0->tensorflow) (3.3.0)\n",
      "Requirement already satisfied: termcolor>=1.1.0 in c:\\users\\reena\\appdata\\local\\anaconda3\\lib\\site-packages (from tensorflow-intel==2.14.0->tensorflow) (2.3.0)\n",
      "Requirement already satisfied: setuptools in c:\\users\\reena\\appdata\\local\\anaconda3\\lib\\site-packages (from tensorflow-intel==2.14.0->tensorflow) (65.6.3)\n",
      "Requirement already satisfied: protobuf!=4.21.0,!=4.21.1,!=4.21.2,!=4.21.3,!=4.21.4,!=4.21.5,<5.0.0dev,>=3.20.3 in c:\\users\\reena\\appdata\\local\\anaconda3\\lib\\site-packages (from tensorflow-intel==2.14.0->tensorflow) (4.25.0)\n",
      "Requirement already satisfied: scipy>=1.3.2 in c:\\users\\reena\\appdata\\local\\anaconda3\\lib\\site-packages (from scikit-learn) (1.10.0)\n",
      "Requirement already satisfied: threadpoolctl>=2.0.0 in c:\\users\\reena\\appdata\\local\\anaconda3\\lib\\site-packages (from scikit-learn) (2.2.0)\n",
      "Requirement already satisfied: joblib>=1.1.1 in c:\\users\\reena\\appdata\\local\\anaconda3\\lib\\site-packages (from scikit-learn) (1.1.1)\n",
      "Requirement already satisfied: wheel<1.0,>=0.23.0 in c:\\users\\reena\\appdata\\local\\anaconda3\\lib\\site-packages (from astunparse>=1.6.0->tensorflow-intel==2.14.0->tensorflow) (0.38.4)\n",
      "Requirement already satisfied: google-auth<3,>=1.6.3 in c:\\users\\reena\\appdata\\local\\anaconda3\\lib\\site-packages (from tensorboard<2.15,>=2.14->tensorflow-intel==2.14.0->tensorflow) (2.23.4)\n",
      "Requirement already satisfied: requests<3,>=2.21.0 in c:\\users\\reena\\appdata\\local\\anaconda3\\lib\\site-packages (from tensorboard<2.15,>=2.14->tensorflow-intel==2.14.0->tensorflow) (2.28.1)\n",
      "Requirement already satisfied: tensorboard-data-server<0.8.0,>=0.7.0 in c:\\users\\reena\\appdata\\local\\anaconda3\\lib\\site-packages (from tensorboard<2.15,>=2.14->tensorflow-intel==2.14.0->tensorflow) (0.7.2)\n",
      "Requirement already satisfied: markdown>=2.6.8 in c:\\users\\reena\\appdata\\local\\anaconda3\\lib\\site-packages (from tensorboard<2.15,>=2.14->tensorflow-intel==2.14.0->tensorflow) (3.4.1)\n",
      "Requirement already satisfied: werkzeug>=1.0.1 in c:\\users\\reena\\appdata\\local\\anaconda3\\lib\\site-packages (from tensorboard<2.15,>=2.14->tensorflow-intel==2.14.0->tensorflow) (2.2.2)\n",
      "Requirement already satisfied: google-auth-oauthlib<1.1,>=0.5 in c:\\users\\reena\\appdata\\local\\anaconda3\\lib\\site-packages (from tensorboard<2.15,>=2.14->tensorflow-intel==2.14.0->tensorflow) (1.0.0)\n",
      "Requirement already satisfied: cachetools<6.0,>=2.0.0 in c:\\users\\reena\\appdata\\local\\anaconda3\\lib\\site-packages (from google-auth<3,>=1.6.3->tensorboard<2.15,>=2.14->tensorflow-intel==2.14.0->tensorflow) (5.3.2)\n",
      "Requirement already satisfied: pyasn1-modules>=0.2.1 in c:\\users\\reena\\appdata\\local\\anaconda3\\lib\\site-packages (from google-auth<3,>=1.6.3->tensorboard<2.15,>=2.14->tensorflow-intel==2.14.0->tensorflow) (0.2.8)\n",
      "Requirement already satisfied: rsa<5,>=3.1.4 in c:\\users\\reena\\appdata\\local\\anaconda3\\lib\\site-packages (from google-auth<3,>=1.6.3->tensorboard<2.15,>=2.14->tensorflow-intel==2.14.0->tensorflow) (4.9)\n",
      "Requirement already satisfied: requests-oauthlib>=0.7.0 in c:\\users\\reena\\appdata\\local\\anaconda3\\lib\\site-packages (from google-auth-oauthlib<1.1,>=0.5->tensorboard<2.15,>=2.14->tensorflow-intel==2.14.0->tensorflow) (1.3.1)\n",
      "Requirement already satisfied: charset-normalizer<3,>=2 in c:\\users\\reena\\appdata\\local\\anaconda3\\lib\\site-packages (from requests<3,>=2.21.0->tensorboard<2.15,>=2.14->tensorflow-intel==2.14.0->tensorflow) (2.0.4)\n",
      "Requirement already satisfied: urllib3<1.27,>=1.21.1 in c:\\users\\reena\\appdata\\local\\anaconda3\\lib\\site-packages (from requests<3,>=2.21.0->tensorboard<2.15,>=2.14->tensorflow-intel==2.14.0->tensorflow) (1.26.14)\n",
      "Requirement already satisfied: certifi>=2017.4.17 in c:\\users\\reena\\appdata\\local\\anaconda3\\lib\\site-packages (from requests<3,>=2.21.0->tensorboard<2.15,>=2.14->tensorflow-intel==2.14.0->tensorflow) (2023.7.22)\n",
      "Requirement already satisfied: idna<4,>=2.5 in c:\\users\\reena\\appdata\\local\\anaconda3\\lib\\site-packages (from requests<3,>=2.21.0->tensorboard<2.15,>=2.14->tensorflow-intel==2.14.0->tensorflow) (3.4)\n",
      "Requirement already satisfied: MarkupSafe>=2.1.1 in c:\\users\\reena\\appdata\\local\\anaconda3\\lib\\site-packages (from werkzeug>=1.0.1->tensorboard<2.15,>=2.14->tensorflow-intel==2.14.0->tensorflow) (2.1.1)\n",
      "Requirement already satisfied: pyasn1<0.5.0,>=0.4.6 in c:\\users\\reena\\appdata\\local\\anaconda3\\lib\\site-packages (from pyasn1-modules>=0.2.1->google-auth<3,>=1.6.3->tensorboard<2.15,>=2.14->tensorflow-intel==2.14.0->tensorflow) (0.4.8)\n",
      "Requirement already satisfied: oauthlib>=3.0.0 in c:\\users\\reena\\appdata\\local\\anaconda3\\lib\\site-packages (from requests-oauthlib>=0.7.0->google-auth-oauthlib<1.1,>=0.5->tensorboard<2.15,>=2.14->tensorflow-intel==2.14.0->tensorflow) (3.2.2)\n"
     ]
    }
   ],
   "source": [
    "import tensorflow as tf\n",
    "!pip install tensorflow scikit-learn\n",
    "from tensorflow import keras\n",
    "from tensorflow.keras import layers"
   ]
  },
  {
   "cell_type": "code",
   "execution_count": 141,
   "id": "8edefd45",
   "metadata": {},
   "outputs": [
    {
     "data": {
      "text/html": [
       "<div>\n",
       "<style scoped>\n",
       "    .dataframe tbody tr th:only-of-type {\n",
       "        vertical-align: middle;\n",
       "    }\n",
       "\n",
       "    .dataframe tbody tr th {\n",
       "        vertical-align: top;\n",
       "    }\n",
       "\n",
       "    .dataframe thead th {\n",
       "        text-align: right;\n",
       "    }\n",
       "</style>\n",
       "<table border=\"1\" class=\"dataframe\">\n",
       "  <thead>\n",
       "    <tr style=\"text-align: right;\">\n",
       "      <th></th>\n",
       "      <th>Age_scaled</th>\n",
       "      <th>Gender_Encode</th>\n",
       "      <th>Education_Level_Encode</th>\n",
       "      <th>Job_Title_Encode</th>\n",
       "      <th>Location_Encode</th>\n",
       "      <th>Experience_years_scaled</th>\n",
       "    </tr>\n",
       "  </thead>\n",
       "  <tbody>\n",
       "    <tr>\n",
       "      <th>73</th>\n",
       "      <td>-1.307742</td>\n",
       "      <td>1</td>\n",
       "      <td>0</td>\n",
       "      <td>166</td>\n",
       "      <td>0</td>\n",
       "      <td>-1.213615</td>\n",
       "    </tr>\n",
       "    <tr>\n",
       "      <th>182</th>\n",
       "      <td>0.922302</td>\n",
       "      <td>0</td>\n",
       "      <td>2</td>\n",
       "      <td>155</td>\n",
       "      <td>0</td>\n",
       "      <td>0.744158</td>\n",
       "    </tr>\n",
       "    <tr>\n",
       "      <th>17</th>\n",
       "      <td>0.225413</td>\n",
       "      <td>1</td>\n",
       "      <td>2</td>\n",
       "      <td>116</td>\n",
       "      <td>0</td>\n",
       "      <td>0.292364</td>\n",
       "    </tr>\n",
       "    <tr>\n",
       "      <th>24</th>\n",
       "      <td>0.504169</td>\n",
       "      <td>1</td>\n",
       "      <td>1</td>\n",
       "      <td>37</td>\n",
       "      <td>0</td>\n",
       "      <td>0.442962</td>\n",
       "    </tr>\n",
       "    <tr>\n",
       "      <th>146</th>\n",
       "      <td>0.643547</td>\n",
       "      <td>0</td>\n",
       "      <td>2</td>\n",
       "      <td>115</td>\n",
       "      <td>0</td>\n",
       "      <td>0.894756</td>\n",
       "    </tr>\n",
       "  </tbody>\n",
       "</table>\n",
       "</div>"
      ],
      "text/plain": [
       "     Age_scaled  Gender_Encode  Education_Level_Encode  Job_Title_Encode  \\\n",
       "73    -1.307742              1                       0               166   \n",
       "182    0.922302              0                       2               155   \n",
       "17     0.225413              1                       2               116   \n",
       "24     0.504169              1                       1                37   \n",
       "146    0.643547              0                       2               115   \n",
       "\n",
       "     Location_Encode  Experience_years_scaled  \n",
       "73                 0                -1.213615  \n",
       "182                0                 0.744158  \n",
       "17                 0                 0.292364  \n",
       "24                 0                 0.442962  \n",
       "146                0                 0.894756  "
      ]
     },
     "execution_count": 141,
     "metadata": {},
     "output_type": "execute_result"
    }
   ],
   "source": [
    "from sklearn.model_selection import train_test_split\n",
    "x_train,x_test,y_train,y_test=train_test_split(x,y,test_size=0.2,random_state=42)\n",
    "x_train.head()"
   ]
  },
  {
   "cell_type": "markdown",
   "id": "c4967a4d",
   "metadata": {},
   "source": [
    "# NEURAL NETWORK REGRESSION"
   ]
  },
  {
   "cell_type": "code",
   "execution_count": 142,
   "id": "a24349eb",
   "metadata": {},
   "outputs": [],
   "source": [
    "# Build a simple neural network model\n",
    "model = keras.Sequential([\n",
    "    layers.Dense(64, activation='relu', input_shape=(x_train.shape[1],)),\n",
    "    layers.Dense(32, activation='relu'),\n",
    "    layers.Dense(1)  # Output layer with one neuron for regression\n",
    "])"
   ]
  },
  {
   "cell_type": "code",
   "execution_count": 143,
   "id": "21e72d67",
   "metadata": {},
   "outputs": [],
   "source": [
    "# Compile the model\n",
    "model.compile(optimizer='adam', loss='mean_squared_error')\n"
   ]
  },
  {
   "cell_type": "code",
   "execution_count": 144,
   "id": "a0f8447d",
   "metadata": {},
   "outputs": [
    {
     "name": "stdout",
     "output_type": "stream",
     "text": [
      "Epoch 1/50\n",
      "7/7 [==============================] - 1s 23ms/step - loss: 12015585280.0000 - val_loss: 15416440832.0000\n",
      "Epoch 2/50\n",
      "7/7 [==============================] - 0s 6ms/step - loss: 12012370944.0000 - val_loss: 15413053440.0000\n",
      "Epoch 3/50\n",
      "7/7 [==============================] - 0s 6ms/step - loss: 12009636864.0000 - val_loss: 15410216960.0000\n",
      "Epoch 4/50\n",
      "7/7 [==============================] - 0s 7ms/step - loss: 12007178240.0000 - val_loss: 15407450112.0000\n",
      "Epoch 5/50\n",
      "7/7 [==============================] - 0s 6ms/step - loss: 12004797440.0000 - val_loss: 15404793856.0000\n",
      "Epoch 6/50\n",
      "7/7 [==============================] - 0s 6ms/step - loss: 12002460672.0000 - val_loss: 15402015744.0000\n",
      "Epoch 7/50\n",
      "7/7 [==============================] - 0s 6ms/step - loss: 12000001024.0000 - val_loss: 15399254016.0000\n",
      "Epoch 8/50\n",
      "7/7 [==============================] - 0s 7ms/step - loss: 11997402112.0000 - val_loss: 15395879936.0000\n",
      "Epoch 9/50\n",
      "7/7 [==============================] - 0s 6ms/step - loss: 11994271744.0000 - val_loss: 15391883264.0000\n",
      "Epoch 10/50\n",
      "7/7 [==============================] - 0s 6ms/step - loss: 11990526976.0000 - val_loss: 15387302912.0000\n",
      "Epoch 11/50\n",
      "7/7 [==============================] - 0s 6ms/step - loss: 11986293760.0000 - val_loss: 15381740544.0000\n",
      "Epoch 12/50\n",
      "7/7 [==============================] - 0s 6ms/step - loss: 11980901376.0000 - val_loss: 15374572544.0000\n",
      "Epoch 13/50\n",
      "7/7 [==============================] - 0s 6ms/step - loss: 11974161408.0000 - val_loss: 15366008832.0000\n",
      "Epoch 14/50\n",
      "7/7 [==============================] - 0s 6ms/step - loss: 11966145536.0000 - val_loss: 15356067840.0000\n",
      "Epoch 15/50\n",
      "7/7 [==============================] - 0s 6ms/step - loss: 11956817920.0000 - val_loss: 15344570368.0000\n",
      "Epoch 16/50\n",
      "7/7 [==============================] - 0s 7ms/step - loss: 11946428416.0000 - val_loss: 15331170304.0000\n",
      "Epoch 17/50\n",
      "7/7 [==============================] - 0s 6ms/step - loss: 11933945856.0000 - val_loss: 15316133888.0000\n",
      "Epoch 18/50\n",
      "7/7 [==============================] - 0s 6ms/step - loss: 11920304128.0000 - val_loss: 15298882560.0000\n",
      "Epoch 19/50\n",
      "7/7 [==============================] - 0s 7ms/step - loss: 11904260096.0000 - val_loss: 15279456256.0000\n",
      "Epoch 20/50\n",
      "7/7 [==============================] - 0s 6ms/step - loss: 11886414848.0000 - val_loss: 15257389056.0000\n",
      "Epoch 21/50\n",
      "7/7 [==============================] - 0s 8ms/step - loss: 11866397696.0000 - val_loss: 15233003520.0000\n",
      "Epoch 22/50\n",
      "7/7 [==============================] - 0s 6ms/step - loss: 11844257792.0000 - val_loss: 15205689344.0000\n",
      "Epoch 23/50\n",
      "7/7 [==============================] - 0s 7ms/step - loss: 11819153408.0000 - val_loss: 15175500800.0000\n",
      "Epoch 24/50\n",
      "7/7 [==============================] - 0s 6ms/step - loss: 11792500736.0000 - val_loss: 15142076416.0000\n",
      "Epoch 25/50\n",
      "7/7 [==============================] - 0s 6ms/step - loss: 11762220032.0000 - val_loss: 15106191360.0000\n",
      "Epoch 26/50\n",
      "7/7 [==============================] - 0s 6ms/step - loss: 11729944576.0000 - val_loss: 15066691584.0000\n",
      "Epoch 27/50\n",
      "7/7 [==============================] - 0s 6ms/step - loss: 11693782016.0000 - val_loss: 15024477184.0000\n",
      "Epoch 28/50\n",
      "7/7 [==============================] - 0s 6ms/step - loss: 11656165376.0000 - val_loss: 14977197056.0000\n",
      "Epoch 29/50\n",
      "7/7 [==============================] - 0s 6ms/step - loss: 11614039040.0000 - val_loss: 14925924352.0000\n",
      "Epoch 30/50\n",
      "7/7 [==============================] - 0s 6ms/step - loss: 11566892032.0000 - val_loss: 14870733824.0000\n",
      "Epoch 31/50\n",
      "7/7 [==============================] - 0s 6ms/step - loss: 11517587456.0000 - val_loss: 14810968064.0000\n",
      "Epoch 32/50\n",
      "7/7 [==============================] - 0s 5ms/step - loss: 11463713792.0000 - val_loss: 14747220992.0000\n",
      "Epoch 33/50\n",
      "7/7 [==============================] - 0s 9ms/step - loss: 11406999552.0000 - val_loss: 14678539264.0000\n",
      "Epoch 34/50\n",
      "7/7 [==============================] - 0s 6ms/step - loss: 11345332224.0000 - val_loss: 14604871680.0000\n",
      "Epoch 35/50\n",
      "7/7 [==============================] - 0s 6ms/step - loss: 11279358976.0000 - val_loss: 14525900800.0000\n",
      "Epoch 36/50\n",
      "7/7 [==============================] - 0s 8ms/step - loss: 11209152512.0000 - val_loss: 14441359360.0000\n",
      "Epoch 37/50\n",
      "7/7 [==============================] - 0s 6ms/step - loss: 11132014592.0000 - val_loss: 14352303104.0000\n",
      "Epoch 38/50\n",
      "7/7 [==============================] - 0s 6ms/step - loss: 11055392768.0000 - val_loss: 14255539200.0000\n",
      "Epoch 39/50\n",
      "7/7 [==============================] - 0s 6ms/step - loss: 10968758272.0000 - val_loss: 14155463680.0000\n",
      "Epoch 40/50\n",
      "7/7 [==============================] - 0s 8ms/step - loss: 10881599488.0000 - val_loss: 14049471488.0000\n",
      "Epoch 41/50\n",
      "7/7 [==============================] - 0s 6ms/step - loss: 10786844672.0000 - val_loss: 13941352448.0000\n",
      "Epoch 42/50\n",
      "7/7 [==============================] - 0s 7ms/step - loss: 10692559872.0000 - val_loss: 13825406976.0000\n",
      "Epoch 43/50\n",
      "7/7 [==============================] - 0s 6ms/step - loss: 10588217344.0000 - val_loss: 13706028032.0000\n",
      "Epoch 44/50\n",
      "7/7 [==============================] - 0s 8ms/step - loss: 10483037184.0000 - val_loss: 13580712960.0000\n",
      "Epoch 45/50\n",
      "7/7 [==============================] - 0s 6ms/step - loss: 10371742720.0000 - val_loss: 13450377216.0000\n",
      "Epoch 46/50\n",
      "7/7 [==============================] - 0s 6ms/step - loss: 10261299200.0000 - val_loss: 13313034240.0000\n",
      "Epoch 47/50\n",
      "7/7 [==============================] - 0s 6ms/step - loss: 10139933696.0000 - val_loss: 13173261312.0000\n",
      "Epoch 48/50\n",
      "7/7 [==============================] - 0s 6ms/step - loss: 10015803392.0000 - val_loss: 13028695040.0000\n",
      "Epoch 49/50\n",
      "7/7 [==============================] - 0s 6ms/step - loss: 9889824768.0000 - val_loss: 12878500864.0000\n",
      "Epoch 50/50\n",
      "7/7 [==============================] - 0s 6ms/step - loss: 9758973952.0000 - val_loss: 12723367936.0000\n"
     ]
    },
    {
     "data": {
      "text/plain": [
       "<keras.src.callbacks.History at 0x173e85eac50>"
      ]
     },
     "execution_count": 144,
     "metadata": {},
     "output_type": "execute_result"
    }
   ],
   "source": [
    "# Train the model\n",
    "model.fit(x_train, y_train, epochs=50, batch_size=32, validation_split=0.2)\n"
   ]
  },
  {
   "cell_type": "code",
   "execution_count": 145,
   "id": "e4d3be35",
   "metadata": {},
   "outputs": [
    {
     "name": "stdout",
     "output_type": "stream",
     "text": [
      "3/3 [==============================] - 0s 5ms/step\n"
     ]
    }
   ],
   "source": [
    "# Make predictions on the test set\n",
    "prediction = model.predict(x_test)"
   ]
  },
  {
   "cell_type": "code",
   "execution_count": 146,
   "id": "02d24039",
   "metadata": {},
   "outputs": [
    {
     "name": "stdout",
     "output_type": "stream",
     "text": [
      "Mean Squared Error on Test Set: 8535382428.425304\n"
     ]
    }
   ],
   "source": [
    "# Evaluate the model on the test set\n",
    "mse = mean_squared_error( y_test,prediction)\n",
    "print(f'Mean Squared Error on Test Set: {mse}')"
   ]
  },
  {
   "cell_type": "markdown",
   "id": "d09fbcac",
   "metadata": {},
   "source": [
    "# Visualize the prediction"
   ]
  },
  {
   "cell_type": "code",
   "execution_count": 147,
   "id": "b06f53ed",
   "metadata": {},
   "outputs": [
    {
     "data": {
      "image/png": "[encoded data removed]",
      "text/plain": [
       "<Figure size 640x480 with 1 Axes>"
      ]
     },
     "metadata": {},
     "output_type": "display_data"
    }
   ],
   "source": [
    "import matplotlib.pyplot as plt\n",
    "plt.scatter(y_test,y_pred,\n",
    "color='blue')\n",
    "plt.plot([y.min(),y.max()],\n",
    "[y.min(),y.max()],linestyle='--',        \n",
    "color='red',linewidth=2)\n",
    "plt.xlabel('Actual values')\n",
    "plt.ylabel('predicted value')\n",
    "plt.title('Neural Network Regression-Scatter plot')\n",
    "plt.show()"
   ]
  },
  {
   "cell_type": "markdown",
   "id": "ac98d070",
   "metadata": {},
   "source": [
    "# Conclusion or Result"
   ]
  },
  {
   "cell_type": "markdown",
   "id": "4df0ee72",
   "metadata": {},
   "source": [
    "The best salary prediction among all machine learning method \n",
    "or deep learning algorithm best fit model is with highest acuracy is\n",
    "RANDOM FOREST REGRESSOR (98.88 %)."
   ]
  },
  {
   "cell_type": "code",
   "execution_count": null,
   "id": "94f441f7",
   "metadata": {},
   "outputs": [],
   "source": []
  }
 ],
 "metadata": {
  "kernelspec": {
   "display_name": "Python 3 (ipykernel)",
   "language": "python",
   "name": "python3"
  },
  "language_info": {
   "codemirror_mode": {
    "name": "ipython",
    "version": 3
   },
   "file_extension": ".py",
   "mimetype": "text/x-python",
   "name": "python",
   "nbconvert_exporter": "python",
   "pygments_lexer": "ipython3",
   "version": "3.10.9"
  }
 },
 "nbformat": 4,
 "nbformat_minor": 5
}
